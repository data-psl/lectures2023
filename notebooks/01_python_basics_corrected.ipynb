{
 "cells": [
  {
   "cell_type": "markdown",
   "metadata": {
    "colab_type": "text",
    "id": "zbJ2fw29OHAX"
   },
   "source": [
    "Notebook prepared by Mathieu Blondel."
   ]
  },
  {
   "cell_type": "markdown",
   "metadata": {
    "colab_type": "text",
    "id": "JbVT11Y8CbAu"
   },
   "source": [
    "# Welcome"
   ]
  },
  {
   "cell_type": "markdown",
   "metadata": {
    "colab_type": "text",
    "id": "kw1B2R_WCU7X"
   },
   "source": [
    "Welcome to the first practical work of the week! In this practical, we will learn about the programming language Python as well as NumPy and Matplotlib, two fundamental tools for data science and machine learning in Python."
   ]
  },
  {
   "cell_type": "markdown",
   "metadata": {
    "colab_type": "text",
    "id": "YV4sYCn8EPwb"
   },
   "source": [
    "# Notebooks"
   ]
  },
  {
   "cell_type": "markdown",
   "metadata": {
    "colab_type": "text",
    "id": "2HuuwOcQEYQI"
   },
   "source": [
    "This week, we will use Jupyter notebooks and Google colab as the primary way to practice machine learning. Notebooks are a great way to mix executable code with rich contents (HTML, images, equations written in LaTeX). Colab allows to run notebooks on the cloud for free without any prior installation, while leveraging the power of [GPUs](https://en.wikipedia.org/wiki/Graphics_processing_unit)."
   ]
  },
  {
   "cell_type": "markdown",
   "metadata": {
    "colab_type": "text",
    "id": "t0XmMkPuGGOs"
   },
   "source": [
    "The document that you are reading is not a static web page, but an interactive environment called a notebook, that lets you write and execute code. Notebooks consist of so-called code cells, blocks of one or more Python instructions. For example, here is a code cell that stores the result of a computation (the number of seconds in a day) in a variable and prints its value:"
   ]
  },
  {
   "cell_type": "code",
   "execution_count": 1,
   "metadata": {
    "colab": {
     "base_uri": "https://localhost:8080/",
     "height": 34
    },
    "colab_type": "code",
    "id": "qeGAvLq1ALJ4",
    "outputId": "da0a439d-bbbe-4bca-ae88-9681dc307b33"
   },
   "outputs": [
    {
     "data": {
      "text/plain": [
       "86400"
      ]
     },
     "execution_count": 1,
     "metadata": {},
     "output_type": "execute_result"
    }
   ],
   "source": [
    "seconds_in_a_day = 24 * 60 * 60\n",
    "seconds_in_a_day"
   ]
  },
  {
   "cell_type": "markdown",
   "metadata": {
    "colab_type": "text",
    "id": "njoPs3q1G75-"
   },
   "source": [
    "Click on the \"play\" button to execute the cell. You should be able to see the result. Alternatively, you can also execute the cell by pressing Ctrl + Enter if you are on Windows / Linux or Command + Enter if you are on a Mac."
   ]
  },
  {
   "cell_type": "markdown",
   "metadata": {
    "colab_type": "text",
    "id": "NvdYaBgHHdbw"
   },
   "source": [
    "Variables that you defined in one cell can later be used in other cells:"
   ]
  },
  {
   "cell_type": "code",
   "execution_count": 2,
   "metadata": {
    "colab": {
     "base_uri": "https://localhost:8080/",
     "height": 34
    },
    "colab_type": "code",
    "id": "s1kp5Zv0JBSx",
    "outputId": "5c3d203f-046d-4555-d398-36e91dbe685c"
   },
   "outputs": [
    {
     "data": {
      "text/plain": [
       "604800"
      ]
     },
     "execution_count": 2,
     "metadata": {},
     "output_type": "execute_result"
    }
   ],
   "source": [
    "seconds_in_a_week = 7 * seconds_in_a_day\n",
    "seconds_in_a_week"
   ]
  },
  {
   "cell_type": "markdown",
   "metadata": {
    "colab_type": "text",
    "id": "uALfY4q1JFQ0"
   },
   "source": [
    "Note that the order of execution is important. For instance, if we do not run the cell storing *seconds_in_a_day* beforehand, the above cell will raise an error, as it depends on this variable. To make sure that you run all the cells in the correct order, you can also click on \"Runtime\" in the top-level menu, then \"Run all\"."
   ]
  },
  {
   "cell_type": "markdown",
   "metadata": {
    "colab_type": "text",
    "id": "HvXs_KaoRWQ9"
   },
   "source": [
    "**Exercise.** Add a cell below this cell: click on this cell then click on \"+ Code\". In the new cell, compute and display the number of seconds in a year by reusing the variable *seconds_in_a_day*. Run the new cell."
   ]
  },
  {
   "cell_type": "code",
   "execution_count": 4,
   "metadata": {},
   "outputs": [
    {
     "data": {
      "text/plain": [
       "31536000"
      ]
     },
     "execution_count": 4,
     "metadata": {},
     "output_type": "execute_result"
    }
   ],
   "source": [
    "days_in_a_year = 365\n",
    "seconds_in_a_year = days_in_a_year * seconds_in_a_day\n",
    "seconds_in_a_year"
   ]
  },
  {
   "cell_type": "markdown",
   "metadata": {
    "colab_type": "text",
    "id": "qyLSwlxnJqXX"
   },
   "source": [
    "# Python"
   ]
  },
  {
   "cell_type": "markdown",
   "metadata": {
    "colab_type": "text",
    "id": "3ltwm91eJyQM"
   },
   "source": [
    "Python is one of the most popular programming languages for machine learning, both in academia and in industry. As such, it is essential to learn this language for anyone interested in machine learning. In this section, we will review Python basics."
   ]
  },
  {
   "cell_type": "markdown",
   "metadata": {
    "colab_type": "text",
    "id": "3EKvP6jiMZ9H"
   },
   "source": [
    "## Arithmetic operations"
   ]
  },
  {
   "cell_type": "markdown",
   "metadata": {
    "colab_type": "text",
    "id": "DDjs0-7YQ80h"
   },
   "source": [
    "Python supports the usual arithmetic operators: + (addition), * (multiplication), / (division), ** (power), // (integer division)."
   ]
  },
  {
   "cell_type": "markdown",
   "metadata": {
    "colab_type": "text",
    "id": "UhcbBQUiStHG"
   },
   "source": [
    "## Lists"
   ]
  },
  {
   "cell_type": "markdown",
   "metadata": {
    "colab_type": "text",
    "id": "RkPn1IjNTCxA"
   },
   "source": [
    "Lists are a container type for ordered sequences of elements. Lists can be initialized empty"
   ]
  },
  {
   "cell_type": "code",
   "execution_count": 5,
   "metadata": {
    "colab": {},
    "colab_type": "code",
    "id": "OrnV1ySAPtHp"
   },
   "outputs": [],
   "source": [
    "my_list = []"
   ]
  },
  {
   "cell_type": "markdown",
   "metadata": {
    "colab_type": "text",
    "id": "OwRqyYI9XnPK"
   },
   "source": [
    "or with some initial elements"
   ]
  },
  {
   "cell_type": "code",
   "execution_count": 6,
   "metadata": {
    "colab": {},
    "colab_type": "code",
    "id": "Uq5YTJ1JXpOX"
   },
   "outputs": [],
   "source": [
    "my_list = [1, 2, 3]"
   ]
  },
  {
   "cell_type": "markdown",
   "metadata": {
    "colab_type": "text",
    "id": "Hk2WmojJXyyz"
   },
   "source": [
    "Lists have a dynamic size and elements can be added (appended) to them"
   ]
  },
  {
   "cell_type": "code",
   "execution_count": 7,
   "metadata": {
    "colab": {
     "base_uri": "https://localhost:8080/",
     "height": 34
    },
    "colab_type": "code",
    "id": "QFTNqiYiXxAh",
    "outputId": "720d3340-7df7-49b8-c920-964d2e350af5"
   },
   "outputs": [
    {
     "data": {
      "text/plain": [
       "[1, 2, 3, 4]"
      ]
     },
     "execution_count": 7,
     "metadata": {},
     "output_type": "execute_result"
    }
   ],
   "source": [
    "my_list.append(4)\n",
    "my_list"
   ]
  },
  {
   "cell_type": "markdown",
   "metadata": {
    "colab_type": "text",
    "id": "IUnJuqQ2Yhzw"
   },
   "source": [
    "We can access individual elements of a list (indexing starts from 0)"
   ]
  },
  {
   "cell_type": "code",
   "execution_count": 8,
   "metadata": {
    "colab": {
     "base_uri": "https://localhost:8080/",
     "height": 34
    },
    "colab_type": "code",
    "id": "pyFxyZPVYpG_",
    "outputId": "7efb0bc1-25fb-4849-8d3a-cfa62b94a175"
   },
   "outputs": [
    {
     "data": {
      "text/plain": [
       "3"
      ]
     },
     "execution_count": 8,
     "metadata": {},
     "output_type": "execute_result"
    }
   ],
   "source": [
    "my_list[2]"
   ]
  },
  {
   "cell_type": "markdown",
   "metadata": {
    "colab_type": "text",
    "id": "hPMrIDYsdgMP"
   },
   "source": [
    "We can access \"slices\" of a list using `my_list[i:j]` where `i` is the start of the slice (again, indexing starts from 0) and `j` the end of the slice. For instance:"
   ]
  },
  {
   "cell_type": "code",
   "execution_count": 9,
   "metadata": {
    "colab": {
     "base_uri": "https://localhost:8080/",
     "height": 34
    },
    "colab_type": "code",
    "id": "Ichf9p0gd7tJ",
    "outputId": "5f4ec085-431e-4e16-aab1-8708f2c931d4"
   },
   "outputs": [
    {
     "data": {
      "text/plain": [
       "[2, 3]"
      ]
     },
     "execution_count": 9,
     "metadata": {},
     "output_type": "execute_result"
    }
   ],
   "source": [
    "my_list[1:3]"
   ]
  },
  {
   "cell_type": "markdown",
   "metadata": {
    "colab_type": "text",
    "id": "KMbzH4tzQ9rI"
   },
   "source": [
    "Omitting the second index means that the slice should run until the end of the list"
   ]
  },
  {
   "cell_type": "code",
   "execution_count": 10,
   "metadata": {
    "colab": {
     "base_uri": "https://localhost:8080/",
     "height": 34
    },
    "colab_type": "code",
    "id": "O7wCthKnREKV",
    "outputId": "5a04ea59-7a54-4b09-a8ee-3cd6171e8c7a"
   },
   "outputs": [
    {
     "data": {
      "text/plain": [
       "[2, 3, 4]"
      ]
     },
     "execution_count": 10,
     "metadata": {},
     "output_type": "execute_result"
    }
   ],
   "source": [
    "my_list[1:]"
   ]
  },
  {
   "cell_type": "markdown",
   "metadata": {
    "colab_type": "text",
    "id": "C5Aeu7PUebrK"
   },
   "source": [
    "We can check if an element is in the list using `in`"
   ]
  },
  {
   "cell_type": "code",
   "execution_count": 11,
   "metadata": {
    "colab": {
     "base_uri": "https://localhost:8080/",
     "height": 34
    },
    "colab_type": "code",
    "id": "a_P5NCi-efvb",
    "outputId": "5012122e-f02c-4474-ec51-6ef8519e5733"
   },
   "outputs": [
    {
     "data": {
      "text/plain": [
       "False"
      ]
     },
     "execution_count": 11,
     "metadata": {},
     "output_type": "execute_result"
    }
   ],
   "source": [
    "5 in my_list"
   ]
  },
  {
   "cell_type": "markdown",
   "metadata": {
    "colab_type": "text",
    "id": "LypIsP5gkl10"
   },
   "source": [
    "The length of a list can be obtained using the `len` function"
   ]
  },
  {
   "cell_type": "code",
   "execution_count": 12,
   "metadata": {
    "colab": {
     "base_uri": "https://localhost:8080/",
     "height": 34
    },
    "colab_type": "code",
    "id": "ac0FMsaKkrWc",
    "outputId": "0a7418d2-67a1-419c-e12b-e6ffb3b4b66d"
   },
   "outputs": [
    {
     "data": {
      "text/plain": [
       "4"
      ]
     },
     "execution_count": 12,
     "metadata": {},
     "output_type": "execute_result"
    }
   ],
   "source": [
    "len(my_list)"
   ]
  },
  {
   "cell_type": "markdown",
   "metadata": {
    "colab_type": "text",
    "id": "1c3RLStf7G2I"
   },
   "source": [
    "## Strings"
   ]
  },
  {
   "cell_type": "markdown",
   "metadata": {
    "colab_type": "text",
    "id": "Jm6hZhgz7KhI"
   },
   "source": [
    "Strings are used to store text. They can be delimited using either single quotes or double quotes"
   ]
  },
  {
   "cell_type": "code",
   "execution_count": 13,
   "metadata": {
    "colab": {},
    "colab_type": "code",
    "id": "cCma6Oj_7T8n"
   },
   "outputs": [],
   "source": [
    "string1 = \"some text\"\n",
    "string2 = 'some other text'"
   ]
  },
  {
   "cell_type": "markdown",
   "metadata": {
    "colab_type": "text",
    "id": "Irr4xuWu7Znu"
   },
   "source": [
    "Strings behave similarly to lists. As such we can access individual elements in exactly the same way"
   ]
  },
  {
   "cell_type": "code",
   "execution_count": 14,
   "metadata": {
    "colab": {
     "base_uri": "https://localhost:8080/",
     "height": 35
    },
    "colab_type": "code",
    "id": "26_POhLO7iM3",
    "outputId": "fa06d3b9-c683-4b05-bedc-36bc43f57bd4"
   },
   "outputs": [
    {
     "data": {
      "text/plain": [
       "'e'"
      ]
     },
     "execution_count": 14,
     "metadata": {},
     "output_type": "execute_result"
    }
   ],
   "source": [
    "string1[3]"
   ]
  },
  {
   "cell_type": "markdown",
   "metadata": {
    "colab_type": "text",
    "id": "oA_UD0JV7oPw"
   },
   "source": [
    "and similarly for slices"
   ]
  },
  {
   "cell_type": "code",
   "execution_count": 15,
   "metadata": {
    "colab": {
     "base_uri": "https://localhost:8080/",
     "height": 35
    },
    "colab_type": "code",
    "id": "dcZFcLqQ7qCe",
    "outputId": "aba6c437-ade3-49da-9e6a-9383eab01fa9"
   },
   "outputs": [
    {
     "data": {
      "text/plain": [
       "'text'"
      ]
     },
     "execution_count": 15,
     "metadata": {},
     "output_type": "execute_result"
    }
   ],
   "source": [
    "string1[5:]"
   ]
  },
  {
   "cell_type": "markdown",
   "metadata": {
    "colab_type": "text",
    "id": "hOQ_CIiu76YG"
   },
   "source": [
    "String concatenation is performed using the `+` operator"
   ]
  },
  {
   "cell_type": "code",
   "execution_count": 16,
   "metadata": {
    "colab": {
     "base_uri": "https://localhost:8080/",
     "height": 35
    },
    "colab_type": "code",
    "id": "mxqNMKCY79_W",
    "outputId": "e5695c9e-0703-49b3-9608-b57ca8375ba9"
   },
   "outputs": [
    {
     "data": {
      "text/plain": [
       "'some text some other text'"
      ]
     },
     "execution_count": 16,
     "metadata": {},
     "output_type": "execute_result"
    }
   ],
   "source": [
    "string1 + \" \" + string2"
   ]
  },
  {
   "cell_type": "markdown",
   "metadata": {
    "colab_type": "text",
    "id": "7Lox2GZCMdIB"
   },
   "source": [
    "## Conditionals"
   ]
  },
  {
   "cell_type": "markdown",
   "metadata": {
    "colab_type": "text",
    "id": "-gXEAWFZfDTT"
   },
   "source": [
    "As their name indicates, conditionals are a way to execute code depending on whether a condition is True or False. As in other languages, Python supports `if` and `else` but `else if` is contracted into `elif`, as the example below demonstrates. "
   ]
  },
  {
   "cell_type": "code",
   "execution_count": 17,
   "metadata": {
    "colab": {
     "base_uri": "https://localhost:8080/",
     "height": 34
    },
    "colab_type": "code",
    "id": "xC_DMZjofoYZ",
    "outputId": "e86016aa-0ebd-4e0f-e559-326f4b2ce644"
   },
   "outputs": [
    {
     "name": "stdout",
     "output_type": "stream",
     "text": [
      "positive\n"
     ]
    }
   ],
   "source": [
    "my_variable = 5\n",
    "if my_variable < 0:\n",
    "  print(\"negative\")\n",
    "elif my_variable == 0:\n",
    "  print(\"null\")\n",
    "else: # my_variable > 0\n",
    "  print(\"positive\")"
   ]
  },
  {
   "cell_type": "markdown",
   "metadata": {
    "colab_type": "text",
    "id": "Ag0SUokSf9jl"
   },
   "source": [
    "Here `<` and `>` are the strict `less` and `greater than` operators, while `==` is the equality operator (not to be confused with `=`, the variable assignment operator). The operators `<=` and `>=` can be used for less (resp. greater) than or equal comparisons."
   ]
  },
  {
   "cell_type": "markdown",
   "metadata": {
    "colab_type": "text",
    "id": "qTkQ2F_jy8wz"
   },
   "source": [
    "Contrary to other languages, blocks of code are delimited using indentation. Here, we use 2-space indentation but many programmers also use 4-space indentation. Any one is fine as long as you are consistent throughout your code."
   ]
  },
  {
   "cell_type": "markdown",
   "metadata": {
    "colab_type": "text",
    "id": "clWaFCzBMfkv"
   },
   "source": [
    "## Loops"
   ]
  },
  {
   "cell_type": "markdown",
   "metadata": {
    "colab_type": "text",
    "id": "_A5doqhTivWe"
   },
   "source": [
    "Loops are a way to execute a block of code multiple times. There are two main types of loops: while loops and for loops."
   ]
  },
  {
   "cell_type": "markdown",
   "metadata": {
    "colab_type": "text",
    "id": "YN8lwTxQkGEa"
   },
   "source": [
    "While loop"
   ]
  },
  {
   "cell_type": "code",
   "execution_count": 18,
   "metadata": {
    "colab": {
     "base_uri": "https://localhost:8080/",
     "height": 85
    },
    "colab_type": "code",
    "id": "7-QXGqgOjsr_",
    "outputId": "4a9bdffc-46ba-47ba-e60b-3ea01dcd2d65"
   },
   "outputs": [
    {
     "name": "stdout",
     "output_type": "stream",
     "text": [
      "1\n",
      "2\n",
      "3\n",
      "4\n"
     ]
    }
   ],
   "source": [
    "i = 0\n",
    "while i < len(my_list):\n",
    "  print(my_list[i])\n",
    "  i += 1 # equivalent to i = i + 1"
   ]
  },
  {
   "cell_type": "markdown",
   "metadata": {
    "colab_type": "text",
    "id": "8mEI_ocfkSvZ"
   },
   "source": [
    "For loop"
   ]
  },
  {
   "cell_type": "code",
   "execution_count": 19,
   "metadata": {
    "colab": {
     "base_uri": "https://localhost:8080/",
     "height": 85
    },
    "colab_type": "code",
    "id": "2QObx5mckMcI",
    "outputId": "32c31a79-ef89-4e80-9e76-47540f839cb6"
   },
   "outputs": [
    {
     "name": "stdout",
     "output_type": "stream",
     "text": [
      "1\n",
      "2\n",
      "3\n",
      "4\n"
     ]
    }
   ],
   "source": [
    "for i in range(len(my_list)):\n",
    "  print(my_list[i])"
   ]
  },
  {
   "cell_type": "markdown",
   "metadata": {
    "colab_type": "text",
    "id": "XO6qqppikZvm"
   },
   "source": [
    "If the goal is simply to iterate over a list, we can do so directly as follows"
   ]
  },
  {
   "cell_type": "code",
   "execution_count": 20,
   "metadata": {
    "colab": {
     "base_uri": "https://localhost:8080/",
     "height": 85
    },
    "colab_type": "code",
    "id": "PjFKzN6zkeJ7",
    "outputId": "41f3a553-b629-4e52-ad98-7bbe55e0cced"
   },
   "outputs": [
    {
     "name": "stdout",
     "output_type": "stream",
     "text": [
      "1\n",
      "2\n",
      "3\n",
      "4\n"
     ]
    }
   ],
   "source": [
    "for element in my_list:\n",
    "  print(element)"
   ]
  },
  {
   "cell_type": "markdown",
   "metadata": {
    "colab_type": "text",
    "id": "Cck4zwYrex02"
   },
   "source": [
    "## Functions"
   ]
  },
  {
   "cell_type": "markdown",
   "metadata": {
    "colab_type": "text",
    "id": "n1PbIf_ohxFO"
   },
   "source": [
    "To improve code readability, it is common to separate the code into different blocks, responsible for performing precise actions: functions. A function takes some inputs and process them to return some outputs."
   ]
  },
  {
   "cell_type": "code",
   "execution_count": 21,
   "metadata": {
    "colab": {
     "base_uri": "https://localhost:8080/",
     "height": 34
    },
    "colab_type": "code",
    "id": "cImA09gOhRmx",
    "outputId": "85834282-56d6-4c17-f188-433f46c50d21"
   },
   "outputs": [
    {
     "data": {
      "text/plain": [
       "36"
      ]
     },
     "execution_count": 21,
     "metadata": {},
     "output_type": "execute_result"
    }
   ],
   "source": [
    "def square(x):\n",
    "  return x ** 2\n",
    "\n",
    "def multiply(a, b):\n",
    "  return a * b\n",
    "\n",
    "# Functions can be composed.\n",
    "square(multiply(3, 2))"
   ]
  },
  {
   "cell_type": "markdown",
   "metadata": {
    "colab_type": "text",
    "id": "75-5SOk9iYSt"
   },
   "source": [
    "To improve code readability, it is sometimes useful to explicitly name the arguments"
   ]
  },
  {
   "cell_type": "code",
   "execution_count": 22,
   "metadata": {
    "colab": {
     "base_uri": "https://localhost:8080/",
     "height": 34
    },
    "colab_type": "code",
    "id": "wkIUuZHhidI0",
    "outputId": "acb68380-db78-491c-ce27-8a4664f78ce5"
   },
   "outputs": [
    {
     "data": {
      "text/plain": [
       "36"
      ]
     },
     "execution_count": 22,
     "metadata": {},
     "output_type": "execute_result"
    }
   ],
   "source": [
    "square(multiply(a=3, b=2))"
   ]
  },
  {
   "cell_type": "markdown",
   "metadata": {
    "colab_type": "text",
    "id": "LkpwbQEVMys2"
   },
   "source": [
    "## Exercises"
   ]
  },
  {
   "cell_type": "markdown",
   "metadata": {
    "colab_type": "text",
    "id": "ASpVhol9ZXI0"
   },
   "source": [
    "**Exercise 1.** Using a conditional, write the [relu](https://en.wikipedia.org/wiki/Rectifier_(neural_networks)) function defined as follows\n",
    "\n",
    "$\\text{relu}(x) = \\left\\{\n",
    "   \\begin{array}{rl}\n",
    "     x, & \\text{if }  x \\ge 0 \\\\\n",
    "     0, & \\text{otherwise }.\n",
    "   \\end{array}\\right.$"
   ]
  },
  {
   "cell_type": "code",
   "execution_count": 23,
   "metadata": {
    "colab": {},
    "colab_type": "code",
    "id": "jlgyu65SaUvr"
   },
   "outputs": [
    {
     "data": {
      "text/plain": [
       "0"
      ]
     },
     "execution_count": 23,
     "metadata": {},
     "output_type": "execute_result"
    }
   ],
   "source": [
    "def relu(x):\n",
    "    if x > 0:\n",
    "        return x\n",
    "    else:\n",
    "        return 0\n",
    "\n",
    "relu(-3)"
   ]
  },
  {
   "cell_type": "markdown",
   "metadata": {
    "colab_type": "text",
    "id": "Y3so0ceoakIw"
   },
   "source": [
    "**Exercise 2.** Using a for loop, write a function that computes the [Euclidean norm](https://en.wikipedia.org/wiki/Norm_(mathematics)#Euclidean_norm) of a vector, represented as a list."
   ]
  },
  {
   "cell_type": "code",
   "execution_count": 24,
   "metadata": {
    "colab": {
     "base_uri": "https://localhost:8080/",
     "height": 34
    },
    "colab_type": "code",
    "id": "-IH-BD41bI1u",
    "outputId": "f45bf668-d55b-494d-ecd7-2f421cbacf15"
   },
   "outputs": [
    {
     "data": {
      "text/plain": [
       "5.729746940310715"
      ]
     },
     "execution_count": 24,
     "metadata": {},
     "output_type": "execute_result"
    }
   ],
   "source": [
    "def euclidean_norm(vector):\n",
    "    sos = 0\n",
    "    for v in vector:\n",
    "        sos += v**2\n",
    "    return sos **0.5\n",
    "\n",
    "my_vector = [0.5, -1.2, 3.3, 4.5]\n",
    "# The result should be roughly 5.729746940310715\n",
    "euclidean_norm(my_vector)"
   ]
  },
  {
   "cell_type": "markdown",
   "metadata": {
    "colab_type": "text",
    "id": "SEXIh_e9cW3S"
   },
   "source": [
    "**Exercise 3.** Using a for loop and a conditional, write a function that returns the maximum value in a vector."
   ]
  },
  {
   "cell_type": "code",
   "execution_count": 26,
   "metadata": {
    "colab": {},
    "colab_type": "code",
    "id": "zd9ntMq0cb2e"
   },
   "outputs": [
    {
     "data": {
      "text/plain": [
       "4.5"
      ]
     },
     "execution_count": 26,
     "metadata": {},
     "output_type": "execute_result"
    }
   ],
   "source": [
    "def vector_maximum(vector):\n",
    "    maximum = vector[0]\n",
    "    for v in vector:\n",
    "        if maximum <= v:\n",
    "            maximum = v\n",
    "    return maximum\n",
    "vector_maximum(my_vector)"
   ]
  },
  {
   "cell_type": "markdown",
   "metadata": {
    "colab_type": "text",
    "id": "qPAZA4OMc6sT"
   },
   "source": [
    "**Bonus exercise.** if time permits, write a function that sorts a list in ascending order (from smaller to bigger) using the [bubble sort](https://en.wikipedia.org/wiki/Bubble_sort) algorithm."
   ]
  },
  {
   "cell_type": "code",
   "execution_count": 30,
   "metadata": {
    "colab": {},
    "colab_type": "code",
    "id": "sBokdJO4dGyf"
   },
   "outputs": [
    {
     "data": {
      "text/plain": [
       "[-3, 1, 2, 3]"
      ]
     },
     "execution_count": 30,
     "metadata": {},
     "output_type": "execute_result"
    }
   ],
   "source": [
    "def is_sorted(my_list):\n",
    "    for i in range(1, len(my_list)):\n",
    "        if my_list[i-1] > my_list[i]:\n",
    "            return False\n",
    "    return True\n",
    "\n",
    "def bubble_sort(my_list):\n",
    "    while not is_sorted(my_list):\n",
    "        for i in range(1, len(my_list)):\n",
    "            if my_list[i-1] > my_list[i]:\n",
    "              l = my_list[i-1]\n",
    "              my_list[i-1] = my_list[i]\n",
    "              my_list[i] = l\n",
    "    return my_list\n",
    "\n",
    "my_list = [1, -3, 3, 2]\n",
    "# Should return [-3, 1, 2, 3]\n",
    "bubble_sort(my_list)"
   ]
  },
  {
   "cell_type": "markdown",
   "metadata": {
    "colab_type": "text",
    "id": "jDxjvtEEM1vg"
   },
   "source": [
    "## Going further"
   ]
  },
  {
   "cell_type": "markdown",
   "metadata": {
    "colab_type": "text",
    "id": "wRkmvzf-PdEp"
   },
   "source": [
    "Clearly, it is impossible to cover all the language features in this short introduction. To go further, we recommend the following resources:"
   ]
  },
  {
   "cell_type": "markdown",
   "metadata": {
    "colab_type": "text",
    "id": "n8nbPoWclRlH"
   },
   "source": [
    "\n",
    "\n",
    "*   List of Python [tutorials](https://wiki.python.org/moin/BeginnersGuide/Programmers)\n",
    "* Four-hour [course](https://www.youtube.com/watch?v=rfscVS0vtbw) on Youtube\n",
    "\n"
   ]
  },
  {
   "cell_type": "markdown",
   "metadata": {
    "colab_type": "text",
    "id": "6X4WJo3iM6m9"
   },
   "source": [
    "# NumPy"
   ]
  },
  {
   "cell_type": "markdown",
   "metadata": {
    "colab_type": "text",
    "id": "_H3bNbLloXCY"
   },
   "source": [
    "NumPy is a popular library for storing arrays of numbers and performing computations on them. Not only does this enable to write often more succinct code, this also makes the code faster, since most NumPy routines are implemented in C for speed."
   ]
  },
  {
   "cell_type": "markdown",
   "metadata": {
    "colab_type": "text",
    "id": "M7tI3XLhqwSX"
   },
   "source": [
    "To use NumPy in your program, you need to import it as follows"
   ]
  },
  {
   "cell_type": "code",
   "execution_count": 31,
   "metadata": {
    "colab": {},
    "colab_type": "code",
    "id": "phSPPyfyq2gX"
   },
   "outputs": [],
   "source": [
    "import numpy as np"
   ]
  },
  {
   "cell_type": "markdown",
   "metadata": {
    "colab_type": "text",
    "id": "9secCfFLNHEE"
   },
   "source": [
    "## Array creation\n",
    "\n"
   ]
  },
  {
   "cell_type": "markdown",
   "metadata": {
    "colab_type": "text",
    "id": "LSS2wEnkq97n"
   },
   "source": [
    "NumPy arrays can be created from Python lists"
   ]
  },
  {
   "cell_type": "code",
   "execution_count": 32,
   "metadata": {
    "colab": {
     "base_uri": "https://localhost:8080/",
     "height": 34
    },
    "colab_type": "code",
    "id": "Hfeg286yrLvJ",
    "outputId": "f498bafc-0373-4258-f479-e27716b193c1"
   },
   "outputs": [
    {
     "data": {
      "text/plain": [
       "array([1, 2, 3])"
      ]
     },
     "execution_count": 32,
     "metadata": {},
     "output_type": "execute_result"
    }
   ],
   "source": [
    "my_array = np.array([1, 2, 3])\n",
    "my_array"
   ]
  },
  {
   "cell_type": "markdown",
   "metadata": {
    "colab_type": "text",
    "id": "Sy2EvrxFriAG"
   },
   "source": [
    "NumPy supports array of arbitrary dimension. For example, we can create two-dimensional arrays (e.g. to store a matrix) as follows"
   ]
  },
  {
   "cell_type": "code",
   "execution_count": 33,
   "metadata": {
    "colab": {
     "base_uri": "https://localhost:8080/",
     "height": 51
    },
    "colab_type": "code",
    "id": "wM-GYVMsrzNs",
    "outputId": "3d524d20-cf2c-4d3c-ba08-4552be3a46d8"
   },
   "outputs": [
    {
     "data": {
      "text/plain": [
       "array([[1, 2, 3],\n",
       "       [4, 5, 6]])"
      ]
     },
     "execution_count": 33,
     "metadata": {},
     "output_type": "execute_result"
    }
   ],
   "source": [
    "my_2d_array = np.array([[1, 2, 3], [4, 5, 6]])\n",
    "my_2d_array"
   ]
  },
  {
   "cell_type": "markdown",
   "metadata": {
    "colab_type": "text",
    "id": "-kZMzYsAsVAc"
   },
   "source": [
    "We can access individual elements of a 2d-array using two indices"
   ]
  },
  {
   "cell_type": "code",
   "execution_count": 34,
   "metadata": {
    "colab": {
     "base_uri": "https://localhost:8080/",
     "height": 34
    },
    "colab_type": "code",
    "id": "4q8X86BbscPd",
    "outputId": "3cefe32a-690a-4744-fad9-9c3edd763cd6"
   },
   "outputs": [
    {
     "data": {
      "text/plain": [
       "6"
      ]
     },
     "execution_count": 34,
     "metadata": {},
     "output_type": "execute_result"
    }
   ],
   "source": [
    "my_2d_array[1, 2]"
   ]
  },
  {
   "cell_type": "markdown",
   "metadata": {
    "colab_type": "text",
    "id": "OfVIKyxkTh0p"
   },
   "source": [
    "We can also access rows"
   ]
  },
  {
   "cell_type": "code",
   "execution_count": 35,
   "metadata": {
    "colab": {
     "base_uri": "https://localhost:8080/",
     "height": 34
    },
    "colab_type": "code",
    "id": "CrKnDAtyTlYe",
    "outputId": "14060c28-8ee7-48f5-f0ca-bdcff12cc421"
   },
   "outputs": [
    {
     "data": {
      "text/plain": [
       "array([4, 5, 6])"
      ]
     },
     "execution_count": 35,
     "metadata": {},
     "output_type": "execute_result"
    }
   ],
   "source": [
    "my_2d_array[1]"
   ]
  },
  {
   "cell_type": "markdown",
   "metadata": {
    "colab_type": "text",
    "id": "hskLBCp9ToCG"
   },
   "source": [
    "and columns"
   ]
  },
  {
   "cell_type": "code",
   "execution_count": 36,
   "metadata": {
    "colab": {
     "base_uri": "https://localhost:8080/",
     "height": 34
    },
    "colab_type": "code",
    "id": "MOOFsLHhTozX",
    "outputId": "8802a59a-0812-40a4-f930-ab2a3302bf46"
   },
   "outputs": [
    {
     "data": {
      "text/plain": [
       "array([3, 6])"
      ]
     },
     "execution_count": 36,
     "metadata": {},
     "output_type": "execute_result"
    }
   ],
   "source": [
    "my_2d_array[:, 2]"
   ]
  },
  {
   "cell_type": "markdown",
   "metadata": {
    "colab_type": "text",
    "id": "keWK_5PHr9Q2"
   },
   "source": [
    "Arrays have a `shape` attribute"
   ]
  },
  {
   "cell_type": "code",
   "execution_count": 37,
   "metadata": {
    "colab": {
     "base_uri": "https://localhost:8080/",
     "height": 51
    },
    "colab_type": "code",
    "id": "5QIo7l1Yr8m7",
    "outputId": "357d4218-541d-4c7f-8bcf-b3f4523b1fa3"
   },
   "outputs": [
    {
     "name": "stdout",
     "output_type": "stream",
     "text": [
      "(3,)\n",
      "(2, 3)\n"
     ]
    }
   ],
   "source": [
    "print(my_array.shape)\n",
    "print(my_2d_array.shape)"
   ]
  },
  {
   "cell_type": "markdown",
   "metadata": {
    "colab_type": "text",
    "id": "LmX0EDWVsoDY"
   },
   "source": [
    "Contrary to Python lists, NumPy arrays must have a type and all elements of the array must have the same type."
   ]
  },
  {
   "cell_type": "code",
   "execution_count": 38,
   "metadata": {
    "colab": {
     "base_uri": "https://localhost:8080/",
     "height": 34
    },
    "colab_type": "code",
    "id": "FZjOowkls57o",
    "outputId": "abb3edab-a903-40c8-f88a-1125fc6d4dbf"
   },
   "outputs": [
    {
     "data": {
      "text/plain": [
       "dtype('int64')"
      ]
     },
     "execution_count": 38,
     "metadata": {},
     "output_type": "execute_result"
    }
   ],
   "source": [
    "my_array.dtype"
   ]
  },
  {
   "cell_type": "markdown",
   "metadata": {
    "colab_type": "text",
    "id": "i5AvLdf7tGnZ"
   },
   "source": [
    "The main types are `int32` (32-bit integers), `int64` (64-bit integers), `float32` (32-bit real values) and `float64` (64-bit real values)."
   ]
  },
  {
   "cell_type": "markdown",
   "metadata": {
    "colab_type": "text",
    "id": "w8ym2qZCt9Nm"
   },
   "source": [
    "The `dtype` can be specified when creating the array"
   ]
  },
  {
   "cell_type": "code",
   "execution_count": 39,
   "metadata": {
    "colab": {
     "base_uri": "https://localhost:8080/",
     "height": 34
    },
    "colab_type": "code",
    "id": "gXpM_FqruCVv",
    "outputId": "20d8b981-56ed-4458-d9d8-2f9fb5fb2b58"
   },
   "outputs": [
    {
     "data": {
      "text/plain": [
       "dtype('float64')"
      ]
     },
     "execution_count": 39,
     "metadata": {},
     "output_type": "execute_result"
    }
   ],
   "source": [
    "my_array = np.array([1, 2, 3], dtype=np.float64)\n",
    "my_array.dtype"
   ]
  },
  {
   "cell_type": "markdown",
   "metadata": {
    "colab_type": "text",
    "id": "WueaRIONuTdS"
   },
   "source": [
    "We can create arrays of all zeros using"
   ]
  },
  {
   "cell_type": "code",
   "execution_count": 40,
   "metadata": {
    "colab": {
     "base_uri": "https://localhost:8080/",
     "height": 51
    },
    "colab_type": "code",
    "id": "jbD8N1UauK8r",
    "outputId": "4a352f81-f0e8-4bc1-a651-760436c7d213"
   },
   "outputs": [
    {
     "data": {
      "text/plain": [
       "array([[0., 0., 0.],\n",
       "       [0., 0., 0.]])"
      ]
     },
     "execution_count": 40,
     "metadata": {},
     "output_type": "execute_result"
    }
   ],
   "source": [
    "zero_array = np.zeros((2, 3))\n",
    "zero_array"
   ]
  },
  {
   "cell_type": "markdown",
   "metadata": {
    "colab_type": "text",
    "id": "vn5go6qoudo4"
   },
   "source": [
    "and similarly for all ones using `ones` instead of `zeros`."
   ]
  },
  {
   "cell_type": "markdown",
   "metadata": {
    "colab_type": "text",
    "id": "1kCRlhLJuvZ6"
   },
   "source": [
    "We can create a range of values using"
   ]
  },
  {
   "cell_type": "code",
   "execution_count": 41,
   "metadata": {
    "colab": {
     "base_uri": "https://localhost:8080/",
     "height": 34
    },
    "colab_type": "code",
    "id": "EcQXDeEmuxpO",
    "outputId": "5a6fac79-26e3-4012-d5f4-82844372dc58"
   },
   "outputs": [
    {
     "data": {
      "text/plain": [
       "array([0, 1, 2, 3, 4])"
      ]
     },
     "execution_count": 41,
     "metadata": {},
     "output_type": "execute_result"
    }
   ],
   "source": [
    "np.arange(5)"
   ]
  },
  {
   "cell_type": "markdown",
   "metadata": {
    "colab_type": "text",
    "id": "ZvJECk6Iu3uF"
   },
   "source": [
    "or specifying the starting point"
   ]
  },
  {
   "cell_type": "code",
   "execution_count": 42,
   "metadata": {
    "colab": {
     "base_uri": "https://localhost:8080/",
     "height": 34
    },
    "colab_type": "code",
    "id": "Pk3UzL3du_f8",
    "outputId": "1fd3f3fa-63ba-4a26-9274-011574bebbd2"
   },
   "outputs": [
    {
     "data": {
      "text/plain": [
       "array([3, 4])"
      ]
     },
     "execution_count": 42,
     "metadata": {},
     "output_type": "execute_result"
    }
   ],
   "source": [
    "np.arange(3, 5)"
   ]
  },
  {
   "cell_type": "markdown",
   "metadata": {
    "colab_type": "text",
    "id": "f1JtqFSivJKG"
   },
   "source": [
    "Another useful routine is `linspace` for creating linearly spaced values in an interval. For instance, to create 10 values in `[0, 1]`, we can use"
   ]
  },
  {
   "cell_type": "code",
   "execution_count": 43,
   "metadata": {
    "colab": {
     "base_uri": "https://localhost:8080/",
     "height": 51
    },
    "colab_type": "code",
    "id": "udHHjGAHvOQM",
    "outputId": "473cec27-ac56-4dc9-984a-c1e340255a51"
   },
   "outputs": [
    {
     "data": {
      "text/plain": [
       "array([0.        , 0.11111111, 0.22222222, 0.33333333, 0.44444444,\n",
       "       0.55555556, 0.66666667, 0.77777778, 0.88888889, 1.        ])"
      ]
     },
     "execution_count": 43,
     "metadata": {},
     "output_type": "execute_result"
    }
   ],
   "source": [
    "np.linspace(0, 1, 10)"
   ]
  },
  {
   "cell_type": "markdown",
   "metadata": {
    "colab_type": "text",
    "id": "WbcxAKobvgUT"
   },
   "source": [
    "Another important operation is `reshape`, for changing the shape of an array"
   ]
  },
  {
   "cell_type": "code",
   "execution_count": 44,
   "metadata": {
    "colab": {
     "base_uri": "https://localhost:8080/",
     "height": 68
    },
    "colab_type": "code",
    "id": "4FPzTuDlvlLO",
    "outputId": "338648ec-11e3-436f-d0e4-6745f9cb30d3"
   },
   "outputs": [
    {
     "data": {
      "text/plain": [
       "array([[1, 2],\n",
       "       [3, 4],\n",
       "       [5, 6]])"
      ]
     },
     "execution_count": 44,
     "metadata": {},
     "output_type": "execute_result"
    }
   ],
   "source": [
    "my_array = np.array([1, 2, 3, 4, 5, 6])\n",
    "my_array.reshape(3, 2)"
   ]
  },
  {
   "cell_type": "markdown",
   "metadata": {
    "colab_type": "text",
    "id": "G-QR80_g3N9Y"
   },
   "source": [
    "Play with these operations and make sure you understand them well."
   ]
  },
  {
   "cell_type": "markdown",
   "metadata": {
    "colab_type": "text",
    "id": "f9B0iCBlmfeY"
   },
   "source": [
    "## Basic operations"
   ]
  },
  {
   "cell_type": "markdown",
   "metadata": {
    "colab_type": "text",
    "id": "elQGgkqDxKLV"
   },
   "source": [
    "In NumPy, we express computations directly over arrays. This makes the code much more succinct."
   ]
  },
  {
   "cell_type": "markdown",
   "metadata": {
    "colab_type": "text",
    "id": "hkCU1T8ixghX"
   },
   "source": [
    "Arithmetic operations can be performed directly over arrays. For instance, assuming two arrays have a compatible shape, we can add them as follows"
   ]
  },
  {
   "cell_type": "code",
   "execution_count": 45,
   "metadata": {
    "colab": {
     "base_uri": "https://localhost:8080/",
     "height": 34
    },
    "colab_type": "code",
    "id": "4AoiRq42x5mI",
    "outputId": "d9706493-95f8-43d5-af90-21a53c13cac5"
   },
   "outputs": [
    {
     "data": {
      "text/plain": [
       "array([5, 7, 9])"
      ]
     },
     "execution_count": 45,
     "metadata": {},
     "output_type": "execute_result"
    }
   ],
   "source": [
    "array_a = np.array([1, 2, 3])\n",
    "array_b = np.array([4, 5, 6])\n",
    "array_a + array_b"
   ]
  },
  {
   "cell_type": "markdown",
   "metadata": {
    "colab_type": "text",
    "id": "SyPqME2EyD4x"
   },
   "source": [
    "Compare this with the equivalent computation using a for loop"
   ]
  },
  {
   "cell_type": "code",
   "execution_count": 46,
   "metadata": {
    "colab": {
     "base_uri": "https://localhost:8080/",
     "height": 34
    },
    "colab_type": "code",
    "id": "HxRFA_U2yfI-",
    "outputId": "cbd77fed-8b67-4119-aeea-7a71d92b63b6"
   },
   "outputs": [
    {
     "data": {
      "text/plain": [
       "array([5, 7, 9])"
      ]
     },
     "execution_count": 46,
     "metadata": {},
     "output_type": "execute_result"
    }
   ],
   "source": [
    "array_out = np.zeros_like(array_a)\n",
    "for i in range(len(array_a)):\n",
    "  array_out[i] = array_a[i] + array_b[i]\n",
    "array_out"
   ]
  },
  {
   "cell_type": "markdown",
   "metadata": {
    "colab_type": "text",
    "id": "i2a-apX-zlPN"
   },
   "source": [
    "Not only this code is more verbose, it will also run much more slowly."
   ]
  },
  {
   "cell_type": "markdown",
   "metadata": {
    "colab_type": "text",
    "id": "Qdn8MwpR0wX_"
   },
   "source": [
    "In NumPy, functions that operates on arrays in an element-wise fashion are called [universal functions](https://numpy.org/doc/stable/reference/ufuncs.html). For instance, this is the case of `np.sin`"
   ]
  },
  {
   "cell_type": "code",
   "execution_count": 47,
   "metadata": {
    "colab": {
     "base_uri": "https://localhost:8080/",
     "height": 34
    },
    "colab_type": "code",
    "id": "JoanjiMu1BH5",
    "outputId": "e6b8be44-7e66-4a3f-eb57-c767c7f8b2f3"
   },
   "outputs": [
    {
     "data": {
      "text/plain": [
       "array([0.84147098, 0.90929743, 0.14112001])"
      ]
     },
     "execution_count": 47,
     "metadata": {},
     "output_type": "execute_result"
    }
   ],
   "source": [
    "np.sin(array_a)"
   ]
  },
  {
   "cell_type": "markdown",
   "metadata": {
    "colab_type": "text",
    "id": "jHljrPXg5h8W"
   },
   "source": [
    "Vector inner product can be performed using `np.dot`"
   ]
  },
  {
   "cell_type": "code",
   "execution_count": 48,
   "metadata": {
    "colab": {
     "base_uri": "https://localhost:8080/",
     "height": 34
    },
    "colab_type": "code",
    "id": "TphR8oIx5ob9",
    "outputId": "a84a8966-6b99-4a48-b422-caea4dd0ffc6"
   },
   "outputs": [
    {
     "data": {
      "text/plain": [
       "32"
      ]
     },
     "execution_count": 48,
     "metadata": {},
     "output_type": "execute_result"
    }
   ],
   "source": [
    "np.dot(array_a, array_b)"
   ]
  },
  {
   "cell_type": "markdown",
   "metadata": {
    "colab_type": "text",
    "id": "lHInOiSW50OR"
   },
   "source": [
    "When the two arguments to `np.dot` are both 2d arrays, `np.dot` becomes matrix multiplication"
   ]
  },
  {
   "cell_type": "code",
   "execution_count": 49,
   "metadata": {
    "colab": {
     "base_uri": "https://localhost:8080/",
     "height": 102
    },
    "colab_type": "code",
    "id": "QRbpbhPP6Up0",
    "outputId": "d020a4d4-2532-495f-fd28-766fc92b3318"
   },
   "outputs": [
    {
     "data": {
      "text/plain": [
       "array([[-0.34293112, -0.90869   ,  1.24362275, -0.0099536 ],\n",
       "       [ 0.44658651, -0.39805942,  0.0813849 , -0.89878921],\n",
       "       [ 0.2404711 ,  0.062542  ,  0.37927744, -0.74169158],\n",
       "       [ 0.61979451, -0.33085628,  0.90344337, -1.79769282],\n",
       "       [ 0.70315886, -0.3440851 ,  0.28034349, -1.5528752 ]])"
      ]
     },
     "execution_count": 49,
     "metadata": {},
     "output_type": "execute_result"
    }
   ],
   "source": [
    "array_A = np.random.rand(5, 3)\n",
    "array_B = np.random.randn(3, 4)\n",
    "np.dot(array_A, array_B)"
   ]
  },
  {
   "cell_type": "markdown",
   "metadata": {
    "colab_type": "text",
    "id": "odVawD9m6gwv"
   },
   "source": [
    "Matrix transpose can be done using `.transpose()` or `.T` for short"
   ]
  },
  {
   "cell_type": "code",
   "execution_count": 50,
   "metadata": {
    "colab": {
     "base_uri": "https://localhost:8080/",
     "height": 68
    },
    "colab_type": "code",
    "id": "gvPe_JAO6mvF",
    "outputId": "4952000d-c255-4cd0-8b12-51bcb59ba53b"
   },
   "outputs": [
    {
     "data": {
      "text/plain": [
       "array([[0.23416723, 0.15859302, 0.51540677, 0.98562423, 0.53512141],\n",
       "       [0.95581863, 0.01638834, 0.13010565, 0.40180401, 0.04684026],\n",
       "       [0.56339472, 0.61031643, 0.25015125, 0.913503  , 0.83371251]])"
      ]
     },
     "execution_count": 50,
     "metadata": {},
     "output_type": "execute_result"
    }
   ],
   "source": [
    "array_A.T"
   ]
  },
  {
   "cell_type": "markdown",
   "metadata": {
    "colab_type": "text",
    "id": "JlWt3oFnE_E-"
   },
   "source": [
    "## Slicing and masking"
   ]
  },
  {
   "cell_type": "markdown",
   "metadata": {
    "colab_type": "text",
    "id": "e4aKKe7bFA65"
   },
   "source": [
    "Like Python lists, NumPy arrays support slicing"
   ]
  },
  {
   "cell_type": "code",
   "execution_count": 51,
   "metadata": {
    "colab": {
     "base_uri": "https://localhost:8080/",
     "height": 34
    },
    "colab_type": "code",
    "id": "0kPhv2xcF1TP",
    "outputId": "a7315cac-0495-44da-e497-63aa677b8d47"
   },
   "outputs": [
    {
     "data": {
      "text/plain": [
       "array([5, 6, 7, 8, 9])"
      ]
     },
     "execution_count": 51,
     "metadata": {},
     "output_type": "execute_result"
    }
   ],
   "source": [
    "np.arange(10)[5:]"
   ]
  },
  {
   "cell_type": "markdown",
   "metadata": {
    "colab_type": "text",
    "id": "ITu2Wy4-GB2G"
   },
   "source": [
    "We can also select only certain elements from the array"
   ]
  },
  {
   "cell_type": "code",
   "execution_count": 52,
   "metadata": {
    "colab": {
     "base_uri": "https://localhost:8080/",
     "height": 34
    },
    "colab_type": "code",
    "id": "8tlZzTB6GEyw",
    "outputId": "a2918cd3-f33b-48de-cd18-a3a8b1fb2fab"
   },
   "outputs": [
    {
     "data": {
      "text/plain": [
       "array([5, 6, 7, 8, 9])"
      ]
     },
     "execution_count": 52,
     "metadata": {},
     "output_type": "execute_result"
    }
   ],
   "source": [
    "x = np.arange(10)\n",
    "mask = x >= 5\n",
    "x[mask]"
   ]
  },
  {
   "cell_type": "markdown",
   "metadata": {
    "colab_type": "text",
    "id": "NlGForCimjBL"
   },
   "source": [
    "## Exercises"
   ]
  },
  {
   "cell_type": "markdown",
   "metadata": {
    "colab_type": "text",
    "id": "Ur1UlSFPTu6O"
   },
   "source": [
    "**Exercise 1.** Create a 3d array of shape (2, 2, 2), containing 8 values. Access individual elements and slices."
   ]
  },
  {
   "cell_type": "code",
   "execution_count": 60,
   "metadata": {
    "colab": {},
    "colab_type": "code",
    "id": "v1ed4-vLUWXQ"
   },
   "outputs": [
    {
     "name": "stdout",
     "output_type": "stream",
     "text": [
      "[[[0.19723336 0.36209985]\n",
      "  [0.26653711 0.07893003]]\n",
      "\n",
      " [[0.30719205 0.81020805]\n",
      "  [0.36804753 0.9551781 ]]]\n",
      "[0.36804753 0.9551781 ]\n",
      "[0.81020805 0.9551781 ]\n"
     ]
    }
   ],
   "source": [
    "A = np.random.rand(2, 2, 2)\n",
    "print(A)\n",
    "print(A[1, 1])\n",
    "print(A[1, :, -1])"
   ]
  },
  {
   "cell_type": "markdown",
   "metadata": {
    "colab_type": "text",
    "id": "s_ksfCDJzyxI"
   },
   "source": [
    "**Exercise 2.** Rewrite the relu function (see Python section) using [np.maximum](https://numpy.org/doc/stable/reference/generated/numpy.maximum.html). Check that it works on both a single value and on an array of values."
   ]
  },
  {
   "cell_type": "code",
   "execution_count": 76,
   "metadata": {
    "colab": {},
    "colab_type": "code",
    "id": "QtSTxH5Dz6f8"
   },
   "outputs": [
    {
     "name": "stdout",
     "output_type": "stream",
     "text": [
      "[1.  0.  2.5]\n",
      "0\n"
     ]
    }
   ],
   "source": [
    "def relu_numpy(x):\n",
    "  return np.maximum(x, 0)\n",
    "\n",
    "print(relu_numpy(np.array([1, -3, 2.5])))\n",
    "print(relu_numpy(-4))"
   ]
  },
  {
   "cell_type": "markdown",
   "metadata": {
    "colab_type": "text",
    "id": "wggUjpyRz7fb"
   },
   "source": [
    "**Exercise 3.** Rewrite the Euclidean norm of a vector (1d array) using NumPy (without for loop)"
   ]
  },
  {
   "cell_type": "code",
   "execution_count": 62,
   "metadata": {
    "colab": {},
    "colab_type": "code",
    "id": "p5BLcHOD0Bhy"
   },
   "outputs": [
    {
     "data": {
      "text/plain": [
       "5.729746940310715"
      ]
     },
     "execution_count": 62,
     "metadata": {},
     "output_type": "execute_result"
    }
   ],
   "source": [
    "def euclidean_norm_numpy(x):\n",
    "  return np.sqrt(np.sum(x**2))\n",
    "\n",
    "my_vector = np.array([0.5, -1.2, 3.3, 4.5])\n",
    "euclidean_norm_numpy(my_vector)"
   ]
  },
  {
   "cell_type": "markdown",
   "metadata": {
    "colab_type": "text",
    "id": "01IteVJ60Il2"
   },
   "source": [
    "**Exercise 4.** Write a function that computes the Euclidean norms of a matrix (2d array) in a row-wise fashion. Hint: use the `axis` argument of [np.sum](https://numpy.org/doc/stable/reference/generated/numpy.sum.html)."
   ]
  },
  {
   "cell_type": "code",
   "execution_count": 64,
   "metadata": {
    "colab": {},
    "colab_type": "code",
    "id": "at5lWRNM0SVG"
   },
   "outputs": [
    {
     "data": {
      "text/plain": [
       "array([4.68401537, 4.59782557])"
      ]
     },
     "execution_count": 64,
     "metadata": {},
     "output_type": "execute_result"
    }
   ],
   "source": [
    "def euclidean_norm_2d(X):\n",
    "  return np.sqrt(np.sum(X**2, axis=1))\n",
    "\n",
    "my_matrix = np.array([[0.5, -1.2, 4.5],\n",
    "                      [-3.2, 1.9, 2.7]])\n",
    "# Should return an array of size 2.\n",
    "euclidean_norm_2d(my_matrix)"
   ]
  },
  {
   "cell_type": "markdown",
   "metadata": {
    "colab_type": "text",
    "id": "yd1ZoByo436x"
   },
   "source": [
    "**Exercise 5.** Compute the mean value of the features in the [iris dataset](https://scikit-learn.org/stable/modules/generated/sklearn.datasets.load_iris.html). Hint: use the `axis` argument on [np.mean](https://numpy.org/doc/stable/reference/generated/numpy.mean.html)."
   ]
  },
  {
   "cell_type": "code",
   "execution_count": 69,
   "metadata": {
    "colab": {
     "base_uri": "https://localhost:8080/",
     "height": 34
    },
    "colab_type": "code",
    "id": "fYFVobkP5JK6",
    "outputId": "91504ff7-ad59-4eb7-f940-cb2e068e1b6f"
   },
   "outputs": [
    {
     "data": {
      "text/plain": [
       "array([5.84333333, 3.05733333, 3.758     , 1.19933333])"
      ]
     },
     "execution_count": 69,
     "metadata": {},
     "output_type": "execute_result"
    }
   ],
   "source": [
    "from sklearn.datasets import load_iris\n",
    "X, y = load_iris(return_X_y=True)\n",
    "\n",
    "# Result should be an array of size 4.\n",
    "np.mean(X, axis=0)\n"
   ]
  },
  {
   "cell_type": "markdown",
   "metadata": {
    "colab_type": "text",
    "id": "1FDs9zX6mpoX"
   },
   "source": [
    "## Going further"
   ]
  },
  {
   "cell_type": "markdown",
   "metadata": {
    "colab_type": "text",
    "id": "hFP61Iztmr9Q"
   },
   "source": [
    "* NumPy [reference](https://numpy.org/doc/stable/reference/)\n",
    "* SciPy [lectures](https://scipy-lectures.org/)\n",
    "*   One-hour [tutorial](https://www.youtube.com/watch?v=QUT1VHiLmmI) on Youtube \n",
    "\n"
   ]
  },
  {
   "cell_type": "markdown",
   "metadata": {
    "colab_type": "text",
    "id": "7Jt6T3kJ8I2T"
   },
   "source": [
    "# Matplotlib"
   ]
  },
  {
   "cell_type": "markdown",
   "metadata": {
    "colab_type": "text",
    "id": "kQX8TiEOALkQ"
   },
   "source": [
    "## Basic plots"
   ]
  },
  {
   "cell_type": "markdown",
   "metadata": {
    "colab_type": "text",
    "id": "REYwc9Va8UTg"
   },
   "source": [
    "Matplotlib is a plotting library for Python."
   ]
  },
  {
   "cell_type": "markdown",
   "metadata": {
    "colab_type": "text",
    "id": "Eom7t-m6-Uzb"
   },
   "source": [
    "We start with a rudimentary plotting example."
   ]
  },
  {
   "cell_type": "code",
   "execution_count": 70,
   "metadata": {
    "colab": {
     "base_uri": "https://localhost:8080/",
     "height": 295
    },
    "colab_type": "code",
    "id": "g21e5Ncm927z",
    "outputId": "0bffba14-376e-4274-a33a-04cc8ce6cd64"
   },
   "outputs": [
    {
     "data": {
      "image/png": "[encoded data removed]",
      "text/plain": [
       "<Figure size 640x480 with 1 Axes>"
      ]
     },
     "metadata": {},
     "output_type": "display_data"
    }
   ],
   "source": [
    "from matplotlib import pyplot as plt\n",
    "\n",
    "x_values = np.linspace(-3, 3, 100)\n",
    "\n",
    "plt.figure()\n",
    "plt.plot(x_values, np.sin(x_values), label=\"Sinusoid\")\n",
    "plt.xlabel(\"x\")\n",
    "plt.ylabel(\"sin(x)\")\n",
    "plt.title(\"Matplotlib example\")\n",
    "plt.legend(loc=\"upper left\")\n",
    "plt.show()"
   ]
  },
  {
   "cell_type": "markdown",
   "metadata": {
    "colab_type": "text",
    "id": "ltvlLwXF-eAH"
   },
   "source": [
    "We continue with a rudimentary scatter plot example. This example displays samples from the [iris dataset](https://scikit-learn.org/stable/modules/generated/sklearn.datasets.load_iris.html) using the first two features. Colors indicate class membership (there are 3 classes)."
   ]
  },
  {
   "cell_type": "code",
   "execution_count": 71,
   "metadata": {
    "colab": {
     "base_uri": "https://localhost:8080/",
     "height": 268
    },
    "colab_type": "code",
    "id": "sEzcJAmy-hbK",
    "outputId": "7d965d22-d0b6-41d5-9f80-f5d6a7d7f93f"
   },
   "outputs": [
    {
     "data": {
      "image/png": "[encoded data removed]",
      "text/plain": [
       "<Figure size 640x480 with 1 Axes>"
      ]
     },
     "metadata": {},
     "output_type": "display_data"
    }
   ],
   "source": [
    "from sklearn.datasets import load_iris\n",
    "X, y = load_iris(return_X_y=True)\n",
    "\n",
    "X_class0 = X[y == 0]\n",
    "X_class1 = X[y == 1]\n",
    "X_class2 = X[y == 2]\n",
    "\n",
    "plt.figure()\n",
    "plt.scatter(X_class0[:, 0], X_class0[:, 1], label=\"Class 0\", color=\"C0\")\n",
    "plt.scatter(X_class1[:, 0], X_class1[:, 1], label=\"Class 1\", color=\"C1\")\n",
    "plt.scatter(X_class2[:, 0], X_class2[:, 1], label=\"Class 2\", color=\"C2\")\n",
    "plt.show()"
   ]
  },
  {
   "cell_type": "markdown",
   "metadata": {
    "colab_type": "text",
    "id": "5vjln9qwAc3M"
   },
   "source": [
    "We see that samples belonging to class 0 can be linearly separated from the rest using only the first two features."
   ]
  },
  {
   "cell_type": "markdown",
   "metadata": {
    "colab_type": "text",
    "id": "uVWuIUs2AQ5a"
   },
   "source": [
    "## Exercises\n",
    "\n"
   ]
  },
  {
   "cell_type": "markdown",
   "metadata": {
    "colab_type": "text",
    "id": "1X6-g6zgCwJd"
   },
   "source": [
    "**Exercise 1.** Plot the relu and the [softplus](https://en.wikipedia.org/wiki/Rectifier_(neural_networks)#Softplus) functions on the same graph."
   ]
  },
  {
   "cell_type": "code",
   "execution_count": 72,
   "metadata": {
    "colab": {},
    "colab_type": "code",
    "id": "Ob6HZUX0DJ8y"
   },
   "outputs": [
    {
     "data": {
      "image/png": "[encoded data removed]",
      "text/plain": [
       "<Figure size 640x480 with 1 Axes>"
      ]
     },
     "metadata": {},
     "output_type": "display_data"
    }
   ],
   "source": [
    "x = np.linspace(-3, 3, 100)\n",
    "plt.figure()\n",
    "plt.plot(x, relu_numpy(x))\n",
    "plt.plot(x, np.log(1 + np.exp(x)))\n",
    "plt.show()"
   ]
  },
  {
   "cell_type": "markdown",
   "metadata": {
    "colab_type": "text",
    "id": "vpRGfz0aDW3l"
   },
   "source": [
    "What is the main difference between the two functions?"
   ]
  },
  {
   "cell_type": "code",
   "execution_count": 77,
   "metadata": {},
   "outputs": [],
   "source": [
    "# Answer: One has a smooth and non-constant derivative, not the other"
   ]
  },
  {
   "cell_type": "markdown",
   "metadata": {
    "colab_type": "text",
    "id": "JjDeIufRAYVL"
   },
   "source": [
    "**Exercise 2.** Repeat the same scatter plot but using the [digits dataset](https://scikit-learn.org/stable/modules/generated/sklearn.datasets.load_digits.html) instead."
   ]
  },
  {
   "cell_type": "code",
   "execution_count": 78,
   "metadata": {
    "colab": {},
    "colab_type": "code",
    "id": "-JU3TXCBBB0c"
   },
   "outputs": [
    {
     "data": {
      "image/png": "[encoded data removed]",
      "text/plain": [
       "<Figure size 640x480 with 1 Axes>"
      ]
     },
     "metadata": {},
     "output_type": "display_data"
    }
   ],
   "source": [
    "from sklearn.datasets import load_digits\n",
    "X, y = load_digits(return_X_y=True)\n",
    "\n",
    "plt.figure()\n",
    "for cl in np.unique(y):\n",
    "    plt.scatter(X[y==cl, 34], X[y==cl, 35], c=\"C\" + str(cl))\n",
    "plt.show()"
   ]
  },
  {
   "cell_type": "markdown",
   "metadata": {
    "colab_type": "text",
    "id": "w7wPWdmXBQA2"
   },
   "source": [
    "Are pixel values good features for classifying samples?"
   ]
  },
  {
   "cell_type": "code",
   "execution_count": 79,
   "metadata": {},
   "outputs": [],
   "source": [
    "# Answer: Based on the value of these 2 pixels, it seems hard to classify anything ..."
   ]
  },
  {
   "cell_type": "markdown",
   "metadata": {
    "colab_type": "text",
    "id": "dYM-oV1jD3RV"
   },
   "source": [
    "## Going further\n",
    "\n",
    "*  Official [tutorial](https://matplotlib.org/tutorials/introductory/pyplot.html)\n",
    "* [Tutorial](https://www.youtube.com/watch?v=qErBw-R2Ybk) on Youtube"
   ]
  }
 ],
 "metadata": {
  "colab": {
   "name": "Python basics",
   "provenance": []
  },
  "kernelspec": {
   "display_name": "Python 3 (ipykernel)",
   "language": "python",
   "name": "python3"
  },
  "language_info": {
   "codemirror_mode": {
    "name": "ipython",
    "version": 3
   },
   "file_extension": ".py",
   "mimetype": "text/x-python",
   "name": "python",
   "nbconvert_exporter": "python",
   "pygments_lexer": "ipython3",
   "version": "3.10.10"
  },
  "vscode": {
   "interpreter": {
    "hash": "52cac47bb829c37db794c82c83a79339992d5d07f5620aa9f303ee48516a5585"
   }
  }
 },
 "nbformat": 4,
 "nbformat_minor": 4
}
