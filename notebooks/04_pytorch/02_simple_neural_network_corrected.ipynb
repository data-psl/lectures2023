{
  "cells": [
    {
      "cell_type": "markdown",
      "metadata": {
        "id": "XYDpjIQvptII"
      },
      "source": [
        "# Simple neural network\n",
        "\n",
        "\n",
        "In this notebook, we are going to create and train a simple neural network on the digits dataset using pytorch."
      ]
    },
    {
      "cell_type": "code",
      "execution_count": null,
      "metadata": {
        "id": "d331qHuTptIL"
      },
      "outputs": [],
      "source": [
        "import torch\n",
        "import numpy as np\n",
        "import matplotlib.pyplot as plt\n",
        "\n",
        "from sklearn.datasets import load_digits\n",
        "from sklearn.model_selection import train_test_split"
      ]
    },
    {
      "cell_type": "markdown",
      "metadata": {
        "id": "coi5tDrYptIN"
      },
      "source": [
        "First, we need to load the data and make them into pytorch tensors."
      ]
    },
    {
      "cell_type": "code",
      "execution_count": null,
      "metadata": {
        "colab": {
          "base_uri": "https://localhost:8080/",
          "height": 146
        },
        "id": "eg0-Y91xptIN",
        "outputId": "355994bf-066e-45f8-a9eb-68660a35f018",
        "scrolled": true
      },
      "outputs": [],
      "source": [
        "X, y = load_digits(return_X_y=True)\n",
        "\n",
        "# Normalize\n",
        "\n",
        "X -= X.mean(axis=0)\n",
        "X /= np.std(X)\n",
        "X_train, X_test, y_train, y_test = train_test_split(X, y)\n",
        "\n",
        "f, axes = plt.subplots(1, 3)\n",
        "for i, axe in enumerate(axes):\n",
        "    axe.imshow(X[i].reshape(8, 8))\n",
        "\n",
        "x = torch.tensor(X_train).float()\n",
        "y = torch.tensor(y_train).long()\n",
        "n, p = x.shape\n",
        "x_test = torch.tensor(X_test).float()\n",
        "y_test = torch.tensor(y_test).long()"
      ]
    },
    {
      "cell_type": "markdown",
      "metadata": {
        "id": "4Fl5PPa6ptIN"
      },
      "source": [
        "# Define the network\n",
        "\n",
        "We will work with a simple network with two layers (one hidden layer).\n",
        "\n",
        "The input $x$ is transformed into the output $z$ by the following operations:\n",
        "\n",
        "$$y = \\tanh(W_1x + b_1)$$\n",
        "$$z = W_2y + b_2$$\n",
        "\n",
        "**Exercise 1**: Define a function `net(x, W1, b1, W2, b2)` that implements this transform. Remember that `x` is a matrix of size $n\\times p$"
      ]
    },
    {
      "cell_type": "code",
      "execution_count": null,
      "metadata": {
        "id": "ggaCnLEEptIO"
      },
      "outputs": [],
      "source": [
        "def net(x, W1, b1, W2, b2):\n",
        "  # x.shape == (n, p)\n",
        "  # W1.shape == (p, d)\n",
        "  # b1 == (d, )\n",
        "  y = torch.tanh(x @ W1 + b1[None, :])\n",
        "  # y.shape = (n, d)\n",
        "  # W2.shape = (d, N)\n",
        "  z = y @ W2 + b2[None, :]\n",
        "  # z = torch.mm(y, W2) + b2\n",
        "  # z.shape == (n, N)\n",
        "  return z"
      ]
    },
    {
      "cell_type": "markdown",
      "metadata": {
        "id": "1FiobBKkptIO"
      },
      "source": [
        "Next, let us specify the parameters of the network, `W1, b1, W2, b2`. You can chose the size of the hidden layer, but the input and output sizes are determined by the problem.\n",
        "\n",
        "**Exercise 2**: Define a set of parameters `W1, b1, W2, b2`, where you chose the size of the hidden layer. Make sure that all these parameters have their `requires_grad` flag set to true, so that we can compute the gradient with respect to them.\n",
        "\n",
        "In order to check that eveything works, compute `net(x, W1, b1, W2, b2)`."
      ]
    },
    {
      "cell_type": "code",
      "execution_count": null,
      "metadata": {
        "id": "AkY8VMRQptIP"
      },
      "outputs": [],
      "source": [
        "hidden_size = 20\n",
        "input_size = 64\n",
        "output_size = 10\n",
        "\n",
        "W1 = torch.randn(input_size, hidden_size) / np.sqrt(input_size)\n",
        "W1.requires_grad = True\n",
        "b1 = torch.zeros(hidden_size)\n",
        "b1.requires_grad = True\n",
        "W2 = torch.randn(hidden_size, output_size) / np.sqrt(hidden_size)\n",
        "W2.requires_grad = True\n",
        "b2 = torch.zeros(output_size)\n",
        "b2.requires_grad = True\n",
        "output = net(x, W1, b1, W2, b2)"
      ]
    },
    {
      "cell_type": "code",
      "execution_count": null,
      "metadata": {
        "colab": {
          "base_uri": "https://localhost:8080/"
        },
        "id": "vVDAE6bitq8w",
        "outputId": "2817cef9-b272-40c5-fba1-741fad8166dc"
      },
      "outputs": [],
      "source": [
        "output.shape"
      ]
    },
    {
      "cell_type": "markdown",
      "metadata": {
        "id": "XRXDlmY0ptIQ"
      },
      "source": [
        "Next, we will define a cost function. We will use the classical cross entropy loss. It is imported from pytorch in the next cell."
      ]
    },
    {
      "cell_type": "code",
      "execution_count": null,
      "metadata": {
        "id": "DzYoC3BKptIQ"
      },
      "outputs": [],
      "source": [
        "from torch.nn.functional import cross_entropy"
      ]
    },
    {
      "cell_type": "markdown",
      "metadata": {
        "id": "PrEfl1bzptIQ"
      },
      "source": [
        "**Exercise 3**: Compute the current loss of the network, and then back-propagate to compute the gradient with respect to the parameters. Check the gradient with respect to W1."
      ]
    },
    {
      "cell_type": "code",
      "execution_count": null,
      "metadata": {
        "id": "AYaYHihaptIQ",
        "scrolled": true
      },
      "outputs": [],
      "source": [
        "loss = cross_entropy(input=output, target=y, reduction='mean')"
      ]
    },
    {
      "cell_type": "code",
      "execution_count": null,
      "metadata": {
        "colab": {
          "base_uri": "https://localhost:8080/"
        },
        "id": "fmNQhzP7xlxQ",
        "outputId": "6f5a6c7c-7487-401a-fb18-96c6fc38de3a"
      },
      "outputs": [],
      "source": [
        "loss.shape"
      ]
    },
    {
      "cell_type": "markdown",
      "metadata": {
        "id": "kiOqmbtOptIR"
      },
      "source": [
        "We are almost ready to train our network!\n",
        "\n",
        "But first, we will need to compute the accuracy of the network, on the train and test set.\n",
        "\n",
        "**Exercise 4**: Define a function `accuracy(X, y, W1, b1, W2, b2)` that computes the accuracy of the network on the dataset `x`with true labels `y`. Remember that the predicted class at the output of the network is computed as the argmaximum of the output. Compute the current accuracy of the network on the train set. Is it normal ?"
      ]
    },
    {
      "cell_type": "code",
      "execution_count": null,
      "metadata": {
        "id": "8Vx9X9xAybLK"
      },
      "outputs": [],
      "source": [
        "  f = net(x, W1, b1, W2, b2)\n",
        "  pred = torch.argmax(f, axis=1)"
      ]
    },
    {
      "cell_type": "code",
      "execution_count": null,
      "metadata": {
        "colab": {
          "base_uri": "https://localhost:8080/"
        },
        "id": "gHkS46NRz5cx",
        "outputId": "2a613fe5-df2c-4575-b5fe-ce276a45527f"
      },
      "outputs": [],
      "source": [
        "y.shape"
      ]
    },
    {
      "cell_type": "code",
      "execution_count": null,
      "metadata": {
        "id": "y9i7Jy4d0C8P"
      },
      "outputs": [],
      "source": [
        "match = pred == y"
      ]
    },
    {
      "cell_type": "code",
      "execution_count": null,
      "metadata": {
        "colab": {
          "base_uri": "https://localhost:8080/"
        },
        "id": "mB-zUyy00Ov3",
        "outputId": "53e12832-4fb3-4b60-985e-63c7027478b7"
      },
      "outputs": [],
      "source": [
        "match.shape"
      ]
    },
    {
      "cell_type": "code",
      "execution_count": null,
      "metadata": {
        "colab": {
          "base_uri": "https://localhost:8080/"
        },
        "id": "bzlpa1AE0TD0",
        "outputId": "1318dd84-b236-402b-8d46-b9734dc6e481"
      },
      "outputs": [],
      "source": [
        "match.float().mean()"
      ]
    },
    {
      "cell_type": "code",
      "execution_count": null,
      "metadata": {
        "colab": {
          "base_uri": "https://localhost:8080/"
        },
        "id": "5CFnaUFvptIR",
        "outputId": "e3edd116-a541-466b-82ae-145b019f5f2d"
      },
      "outputs": [],
      "source": [
        "def accuracy(x, y, W1, b1, W2, b2):\n",
        "  f = net(x, W1, b1, W2, b2)\n",
        "  pred = torch.argmax(f, axis=1)\n",
        "  match = pred == y\n",
        "  accuracy = match.float().mean()\n",
        "  return accuracy\n",
        "\n",
        "accuracy(x, y, W1, b1, W2, b2)"
      ]
    },
    {
      "cell_type": "markdown",
      "metadata": {
        "id": "PuHEvr-HptIR"
      },
      "source": [
        "# Training the network\n",
        "\n",
        "We are now ready to train the network, using back-propagation and stochastic gradient descent.\n",
        "First, we define the number of iterations of the algorithm, the step size, and the batch size. We also reinitialize the weights. Finally, we will store the train and test accuracy during the training."
      ]
    },
    {
      "cell_type": "code",
      "execution_count": null,
      "metadata": {
        "id": "l75G-7UxptIS"
      },
      "outputs": [],
      "source": [
        "n_iter = 1000\n",
        "step_size = 0.1\n",
        "batch_size = 64\n",
        "\n",
        "test_list = []\n",
        "train_list = []"
      ]
    },
    {
      "cell_type": "markdown",
      "metadata": {
        "id": "DIZDURuPptIS"
      },
      "source": [
        "**Exercise 5**: Complete the following training list, so that each parameter is updated at each iteration.\n",
        "\n",
        "Remember that at each iteration, you should:\n",
        "* compute the output of the network with respect to the batch\n",
        "* Compute the loss, and backpropagate\n",
        "* Update each parameter with gradient descent\n",
        "* Refresh the gradient of each parameter. To do so, you can do:\n",
        "\n",
        "```\n",
        "W1 = W1.detach()\n",
        "W1.requires_grad=True\n",
        "```"
      ]
    },
    {
      "cell_type": "code",
      "execution_count": null,
      "metadata": {
        "colab": {
          "base_uri": "https://localhost:8080/"
        },
        "id": "BtRzH1Vw1_NX",
        "outputId": "93fcb210-1f90-4209-80eb-e5560349ca54"
      },
      "outputs": [],
      "source": [
        "W1.requires_grad"
      ]
    },
    {
      "cell_type": "code",
      "execution_count": null,
      "metadata": {
        "colab": {
          "base_uri": "https://localhost:8080/"
        },
        "id": "l5WHj_0T2B0q",
        "outputId": "cc293417-4974-4689-d179-fa7c4412a920"
      },
      "outputs": [],
      "source": [
        "loss."
      ]
    },
    {
      "cell_type": "code",
      "execution_count": null,
      "metadata": {
        "id": "BkTAEZoe1dzu"
      },
      "outputs": [],
      "source": [
        "W1.data = W1.data - step_size * W1.grad\n",
        "W1.grad.zero_()"
      ]
    },
    {
      "cell_type": "code",
      "execution_count": null,
      "metadata": {
        "colab": {
          "base_uri": "https://localhost:8080/"
        },
        "id": "i34qSU811tgG",
        "outputId": "2ff02819-3110-4bc0-ab1a-3c15932206ab"
      },
      "outputs": [],
      "source": [
        "W1.requires_grad"
      ]
    },
    {
      "cell_type": "code",
      "execution_count": null,
      "metadata": {
        "colab": {
          "base_uri": "https://localhost:8080/"
        },
        "id": "QNO-cnP3ptIS",
        "outputId": "b1d4dca2-68bd-47e7-8ac1-06d963afe317",
        "scrolled": true
      },
      "outputs": [],
      "source": [
        "for i in range(n_iter):\n",
        "    # Selection of the batch here\n",
        "    batch_idx = torch.randperm(n)[:batch_size]\n",
        "    x_batch = x[batch_idx]\n",
        "    y_batch = y[batch_idx]\n",
        "    # YOUR CODE HERE: Compute the output of the network, the loss, and backpropagate\n",
        "    f_batch = net(x_batch, W1, b1, W2, b2)\n",
        "    loss = cross_entropy(f_batch, y_batch)\n",
        "    loss.backward()\n",
        "    \n",
        "    with torch.no_grad():\n",
        "      W1.data = W1.data - step_size * W1.grad\n",
        "      W1.grad.zero_()\n",
        "\n",
        "      W2.data = W2.data - step_size * W2.grad\n",
        "      W2.grad.zero_()\n",
        "      \n",
        "      b1.data = b1.data - step_size * b1.grad\n",
        "      b1.grad.zero_()\n",
        "\n",
        "      b2.data = b2.data - step_size * b2.grad\n",
        "      b2.grad.zero_()\n",
        "        \n",
        "    # Utility to print the current state of training\n",
        "    if i % 10 == 0:\n",
        "        with torch.no_grad():\n",
        "            train_acc = accuracy(x, y, W1, b1, W2, b2)\n",
        "            test_acc = accuracy(x_test, y_test, W1, b1, W2, b2)\n",
        "        test_list.append(test_acc)\n",
        "        train_list.append(train_acc)\n",
        "        print('Iteration {} Train loss: {:1.3f} Train acc: {:1.3f} Test acc {:1.3f}'.format(i, loss.item(), train_acc, test_acc))"
      ]
    },
    {
      "cell_type": "markdown",
      "metadata": {
        "id": "66OKSmlCptIS"
      },
      "source": [
        "**Exercise 6**: Display the learning curves. You can then play with the network and training parameters:\n",
        "what happens when you change the learning rate, the number of hidden sizes, etc?"
      ]
    },
    {
      "cell_type": "code",
      "execution_count": null,
      "metadata": {
        "colab": {
          "base_uri": "https://localhost:8080/"
        },
        "id": "ydMLaVcF4jVe",
        "outputId": "a1d37907-6bdc-46f4-a6ae-94b9f443211a"
      },
      "outputs": [],
      "source": [
        "test_list"
      ]
    },
    {
      "cell_type": "code",
      "execution_count": null,
      "metadata": {
        "colab": {
          "base_uri": "https://localhost:8080/"
        },
        "id": "OIeai8774lzS",
        "outputId": "30f74668-df31-4adc-d1f5-f795d5cd9c11"
      },
      "outputs": [],
      "source": [
        "train_list"
      ]
    },
    {
      "cell_type": "code",
      "execution_count": null,
      "metadata": {
        "id": "xsNa-qKv4nEQ"
      },
      "outputs": [],
      "source": [
        "import matplotlib.pyplot as plt"
      ]
    },
    {
      "cell_type": "code",
      "execution_count": null,
      "metadata": {
        "colab": {
          "base_uri": "https://localhost:8080/",
          "height": 287
        },
        "id": "56PTLuex4sRr",
        "outputId": "46327b89-c976-4323-fa59-166269307f77"
      },
      "outputs": [],
      "source": [
        "plt.plot(train_list, label='Train accuracy')\n",
        "plt.plot(test_list, label='Test accuracy')\n",
        "plt.ylim([0.7, 1])\n",
        "plt.legend()"
      ]
    },
    {
      "cell_type": "code",
      "execution_count": null,
      "metadata": {
        "id": "gUHJbsxq4uh0"
      },
      "outputs": [],
      "source": []
    }
  ],
  "metadata": {
    "colab": {
      "name": "02_simple_neural_network_correction.ipynb",
      "provenance": []
    },
    "kernelspec": {
      "display_name": "Python 3.9.13 ('venv': venv)",
      "language": "python",
      "name": "python3"
    },
    "language_info": {
      "codemirror_mode": {
        "name": "ipython",
        "version": 3
      },
      "file_extension": ".py",
      "mimetype": "text/x-python",
      "name": "python",
      "nbconvert_exporter": "python",
      "pygments_lexer": "ipython3",
      "version": "3.9.13"
    },
    "vscode": {
      "interpreter": {
        "hash": "52cac47bb829c37db794c82c83a79339992d5d07f5620aa9f303ee48516a5585"
      }
    }
  },
  "nbformat": 4,
  "nbformat_minor": 0
}
