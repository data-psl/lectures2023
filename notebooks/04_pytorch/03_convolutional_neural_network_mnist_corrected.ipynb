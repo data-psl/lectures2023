{
  "cells": [
    {
      "cell_type": "markdown",
      "metadata": {
        "id": "VUvjB8agQjRO"
      },
      "source": [
        "# Pytorch: modules\n",
        "\n",
        "In the previous notebook, we have laboriously trained a neural network written by hand. Pytorch actually contains many modules that make the definition of a network, the data collection and the training very easy."
      ]
    },
    {
      "cell_type": "code",
      "execution_count": 2,
      "metadata": {
        "id": "bEKlwt2HQjRQ"
      },
      "outputs": [],
      "source": [
        "import torch\n",
        "import torch.nn as nn\n",
        "import torch.nn.functional as F"
      ]
    },
    {
      "cell_type": "markdown",
      "metadata": {
        "id": "JDRIU624QjRQ"
      },
      "source": [
        "# Neural network module\n",
        "\n",
        "The `torch.nn` module allows to easily define complicated networks. It implements basic linear and convolutional layers, and allows to build with them easily. To do so, we define a `nn.Module` class.\n",
        "\n",
        "This class has two methods:\n",
        "\n",
        "* `__init__` specifies the different layers of the network\n",
        "* `forward` defines how to go from the input to the output using the layers defined in the init.\n",
        "\n",
        "For instance, this is how you would define a simple neural network with one hidden layer of size $100$, that takes $10$ inputs and returns $3$ outputs:"
      ]
    },
    {
      "cell_type": "code",
      "execution_count": 3,
      "metadata": {
        "id": "vWLQqrkjQjRR"
      },
      "outputs": [],
      "source": [
        "class Two_layers(nn.Module):\n",
        "    def __init__(self):\n",
        "        super().__init__()\n",
        "        self.layer1 = nn.Linear(10, 100)\n",
        "        self.layer2 = nn.Linear(100, 3)\n",
        "\n",
        "    def forward(self, x):\n",
        "        y = self.layer1(x)\n",
        "        y = torch.tanh(y)\n",
        "        y = self.layer2(y)\n",
        "        return y\n",
        "\n",
        "net = Two_layers()"
      ]
    },
    {
      "cell_type": "code",
      "execution_count": 4,
      "metadata": {
        "id": "xKgsM5snQjRR",
        "outputId": "39555448-264e-41d2-ddf6-4bc471c8fdb5",
        "colab": {
          "base_uri": "https://localhost:8080/"
        }
      },
      "outputs": [
        {
          "output_type": "execute_result",
          "data": {
            "text/plain": [
              "tensor([[ 0.0041, -0.2475,  0.1184],\n",
              "        [-0.0224,  0.2300,  0.0574],\n",
              "        [-0.0351, -0.1890, -0.0986],\n",
              "        ...,\n",
              "        [ 0.0669,  0.3171, -0.2704],\n",
              "        [-0.2794, -0.0120, -0.1264],\n",
              "        [ 0.2799, -0.0378, -0.3819]], grad_fn=<AddmmBackward0>)"
            ]
          },
          "metadata": {},
          "execution_count": 4
        }
      ],
      "source": [
        "x = torch.randn(1000, 10)\n",
        "net(x)"
      ]
    },
    {
      "cell_type": "markdown",
      "metadata": {
        "id": "vQWwLLwtQjRR"
      },
      "source": [
        "# Optim module\n",
        "\n",
        "The `torch.optim` module then allows to easily learn the parameters of the net with backprop. An optimizer, like SGD, takes the parameters of the network as input."
      ]
    },
    {
      "cell_type": "code",
      "execution_count": 5,
      "metadata": {
        "id": "j94fnBqqQjRR"
      },
      "outputs": [],
      "source": [
        "import torch.optim as optim\n",
        "\n",
        "optimizer = optim.SGD(lr=1e-2, params=net.parameters())"
      ]
    },
    {
      "cell_type": "markdown",
      "metadata": {
        "id": "Sc1Zlq0jQjRR"
      },
      "source": [
        "We can then compute a (toy) loss, backpropagate, and use the `optimizer.step` method to make an update:"
      ]
    },
    {
      "cell_type": "code",
      "execution_count": 6,
      "metadata": {
        "id": "g6vBSk1OQjRS"
      },
      "outputs": [],
      "source": [
        "optimizer.zero_grad()\n",
        "y = net(x)\n",
        "loss = y.sum()\n",
        "loss.backward()\n",
        "optimizer.step()"
      ]
    },
    {
      "cell_type": "markdown",
      "metadata": {
        "id": "Apk8AIJJQjRS"
      },
      "source": [
        "And that is it !"
      ]
    },
    {
      "cell_type": "markdown",
      "metadata": {
        "id": "XkxntqYnQjRS"
      },
      "source": [
        "# Datasets\n",
        "There are also some convenient tools to load datasets. For instance, we will work with MNIST:"
      ]
    },
    {
      "cell_type": "code",
      "execution_count": 7,
      "metadata": {
        "id": "wZnygEOgQjRS"
      },
      "outputs": [],
      "source": [
        "from torchvision import datasets, transforms"
      ]
    },
    {
      "cell_type": "markdown",
      "metadata": {
        "id": "5GiAz8AOQjRS"
      },
      "source": [
        "Let's download the MNIST dataset, the train and testing data, and apply a simple normalizing transform."
      ]
    },
    {
      "cell_type": "code",
      "execution_count": 8,
      "metadata": {
        "id": "KIGLDsBpQjRT",
        "outputId": "a9e43f50-871f-4f31-e002-978b8ab6974a",
        "colab": {
          "base_uri": "https://localhost:8080/"
        }
      },
      "outputs": [
        {
          "output_type": "stream",
          "name": "stdout",
          "text": [
            "Downloading http://yann.lecun.com/exdb/mnist/train-images-idx3-ubyte.gz\n",
            "Downloading http://yann.lecun.com/exdb/mnist/train-images-idx3-ubyte.gz to ../data/MNIST/raw/train-images-idx3-ubyte.gz\n"
          ]
        },
        {
          "output_type": "stream",
          "name": "stderr",
          "text": [
            "100%|██████████| 9912422/9912422 [00:00<00:00, 393508161.02it/s]"
          ]
        },
        {
          "output_type": "stream",
          "name": "stdout",
          "text": [
            "Extracting ../data/MNIST/raw/train-images-idx3-ubyte.gz to ../data/MNIST/raw\n"
          ]
        },
        {
          "output_type": "stream",
          "name": "stderr",
          "text": [
            "\n"
          ]
        },
        {
          "output_type": "stream",
          "name": "stdout",
          "text": [
            "\n",
            "Downloading http://yann.lecun.com/exdb/mnist/train-labels-idx1-ubyte.gz\n",
            "Downloading http://yann.lecun.com/exdb/mnist/train-labels-idx1-ubyte.gz to ../data/MNIST/raw/train-labels-idx1-ubyte.gz\n"
          ]
        },
        {
          "output_type": "stream",
          "name": "stderr",
          "text": [
            "100%|██████████| 28881/28881 [00:00<00:00, 96676531.38it/s]\n"
          ]
        },
        {
          "output_type": "stream",
          "name": "stdout",
          "text": [
            "Extracting ../data/MNIST/raw/train-labels-idx1-ubyte.gz to ../data/MNIST/raw\n",
            "\n",
            "Downloading http://yann.lecun.com/exdb/mnist/t10k-images-idx3-ubyte.gz\n",
            "Downloading http://yann.lecun.com/exdb/mnist/t10k-images-idx3-ubyte.gz to ../data/MNIST/raw/t10k-images-idx3-ubyte.gz\n"
          ]
        },
        {
          "output_type": "stream",
          "name": "stderr",
          "text": [
            "100%|██████████| 1648877/1648877 [00:00<00:00, 63815042.32it/s]"
          ]
        },
        {
          "output_type": "stream",
          "name": "stdout",
          "text": [
            "Extracting ../data/MNIST/raw/t10k-images-idx3-ubyte.gz to ../data/MNIST/raw\n"
          ]
        },
        {
          "output_type": "stream",
          "name": "stderr",
          "text": [
            "\n"
          ]
        },
        {
          "output_type": "stream",
          "name": "stdout",
          "text": [
            "\n",
            "Downloading http://yann.lecun.com/exdb/mnist/t10k-labels-idx1-ubyte.gz\n",
            "Downloading http://yann.lecun.com/exdb/mnist/t10k-labels-idx1-ubyte.gz to ../data/MNIST/raw/t10k-labels-idx1-ubyte.gz\n"
          ]
        },
        {
          "output_type": "stream",
          "name": "stderr",
          "text": [
            "100%|██████████| 4542/4542 [00:00<00:00, 3672745.09it/s]\n"
          ]
        },
        {
          "output_type": "stream",
          "name": "stdout",
          "text": [
            "Extracting ../data/MNIST/raw/t10k-labels-idx1-ubyte.gz to ../data/MNIST/raw\n",
            "\n"
          ]
        }
      ],
      "source": [
        "transform=transforms.Compose([\n",
        "    transforms.ToTensor(),\n",
        "    transforms.Normalize((0.1307,), (0.3081,))\n",
        "    ])\n",
        "dataset1 = datasets.MNIST('../data', train=True, download=True,\n",
        "                   transform=transform)\n",
        "dataset2 = datasets.MNIST('../data', train=False,\n",
        "                   transform=transform)"
      ]
    },
    {
      "cell_type": "markdown",
      "metadata": {
        "id": "SBceJ6bbQjRT"
      },
      "source": [
        "We can then define a loader that will automatically load the images when we train / test"
      ]
    },
    {
      "cell_type": "code",
      "execution_count": 9,
      "metadata": {
        "id": "9CufY2o6QjRT"
      },
      "outputs": [],
      "source": [
        "batch_size = 128\n",
        "\n",
        "train_loader = torch.utils.data.DataLoader(dataset1, batch_size=batch_size)\n",
        "test_loader = torch.utils.data.DataLoader(dataset2, batch_size=batch_size)"
      ]
    },
    {
      "cell_type": "markdown",
      "metadata": {
        "id": "62FsSqGSQjRT"
      },
      "source": [
        "We can then loop over these loaders to get the images:"
      ]
    },
    {
      "cell_type": "code",
      "execution_count": 10,
      "metadata": {
        "id": "9Gx0moCbQjRT",
        "outputId": "510a0c63-654e-462f-e1ac-d2b8438c797d",
        "colab": {
          "base_uri": "https://localhost:8080/",
          "height": 467
        }
      },
      "outputs": [
        {
          "output_type": "stream",
          "name": "stdout",
          "text": [
            "torch.Size([128, 1, 28, 28])\n",
            "torch.Size([128])\n"
          ]
        },
        {
          "output_type": "display_data",
          "data": {
            "text/plain": [
              "<Figure size 640x480 with 1 Axes>"
            ],
            "image/png": "[encoded data removed]"
          },
          "metadata": {}
        }
      ],
      "source": [
        "import matplotlib.pyplot as plt\n",
        "\n",
        "for x, y in train_loader:\n",
        "    print(x.shape)\n",
        "    print(y.shape)\n",
        "    plt.imshow(x[0, 0])\n",
        "    break"
      ]
    },
    {
      "cell_type": "markdown",
      "metadata": {
        "id": "bPIpAHcOQjRT"
      },
      "source": [
        "We are now ready to train a network on MNIST !\n",
        "\n",
        "# Training on MNIST"
      ]
    },
    {
      "cell_type": "markdown",
      "metadata": {
        "id": "SrUUpV-eQjRY"
      },
      "source": [
        "**Exercise 1**: Define a one hidden neural network for MNIST, with a hidden layer of size $1000$."
      ]
    },
    {
      "cell_type": "code",
      "execution_count": 11,
      "metadata": {
        "id": "eVrL1pXOQjRZ"
      },
      "outputs": [],
      "source": [
        "class Two_layers(nn.Module):\n",
        "    def __init__(self):\n",
        "        super().__init__()\n",
        "        self.layer1 = nn.Linear(28 * 28, 1000)\n",
        "        self.layer2 = nn.Linear(1000, 10)\n",
        "    def forward(self, x):\n",
        "      y = x.view(len(x), -1)\n",
        "      y = self.layer1(y)\n",
        "      y = torch.tanh(y)\n",
        "      y = self.layer2(y)\n",
        "      return y\n",
        "\n",
        "net = Two_layers()"
      ]
    },
    {
      "cell_type": "code",
      "execution_count": 12,
      "metadata": {
        "id": "LKZLQsZFQjRZ",
        "outputId": "e127d305-ab8e-48c6-e747-8f5831cd3402",
        "colab": {
          "base_uri": "https://localhost:8080/"
        }
      },
      "outputs": [
        {
          "output_type": "stream",
          "name": "stdout",
          "text": [
            "torch.Size([128, 1, 28, 28])\n",
            "tensor([[-0.2577,  0.0585,  0.1305,  ..., -0.3366, -0.0228, -0.0459],\n",
            "        [-0.0023, -0.3232, -0.1326,  ..., -0.0692, -0.0180,  0.1610],\n",
            "        [-0.1068, -0.2859, -0.0671,  ...,  0.2190, -0.1777, -0.0940],\n",
            "        ...,\n",
            "        [-0.2381, -0.0730, -0.1607,  ...,  0.0960, -0.0470,  0.0843],\n",
            "        [-0.1789,  0.0735,  0.2717,  ...,  0.1989, -0.1096,  0.1145],\n",
            "        [-0.1013, -0.2980,  0.1039,  ..., -0.2059, -0.1296, -0.1760]],\n",
            "       grad_fn=<AddmmBackward0>)\n"
          ]
        }
      ],
      "source": [
        "for x, y in train_loader:\n",
        "  print(x.shape)\n",
        "  print(net(x))\n",
        "  break"
      ]
    },
    {
      "cell_type": "markdown",
      "metadata": {
        "id": "cJNvYBBMQjRZ"
      },
      "source": [
        "**Exercise 2** : Define an SGD optimizer for this network"
      ]
    },
    {
      "cell_type": "code",
      "execution_count": 13,
      "metadata": {
        "id": "VqfLIqu5QjRZ"
      },
      "outputs": [],
      "source": [
        "optimizer = optim.SGD(lr=1e-2, params=net.parameters())"
      ]
    },
    {
      "cell_type": "markdown",
      "metadata": {
        "id": "WE6hyOEOQjRZ"
      },
      "source": [
        "**Exercise 3**: Perform one training epoch on the data, and compute the testing accuracy. Use the cross entropy as loss."
      ]
    },
    {
      "cell_type": "code",
      "execution_count": 14,
      "metadata": {
        "id": "ZUxAb3dnQjRZ"
      },
      "outputs": [],
      "source": [
        "from torch.nn.functional import cross_entropy\n",
        "from tqdm import tqdm"
      ]
    },
    {
      "cell_type": "code",
      "execution_count": 15,
      "metadata": {
        "id": "Fos9U9UlQjRZ",
        "outputId": "0e03efac-227e-4f02-84ee-14e4e9c9eaa9",
        "colab": {
          "base_uri": "https://localhost:8080/"
        }
      },
      "outputs": [
        {
          "output_type": "stream",
          "name": "stderr",
          "text": [
            "469it [00:18, 25.99it/s]\n"
          ]
        }
      ],
      "source": [
        "for i, (x, y) in tqdm(enumerate(train_loader)):\n",
        "  optimizer.zero_grad()\n",
        "  output = net(x)\n",
        "  loss = cross_entropy(output, y)\n",
        "  loss.backward()\n",
        "  optimizer.step()"
      ]
    },
    {
      "cell_type": "code",
      "execution_count": 16,
      "metadata": {
        "id": "d77ZZd0JQjRZ",
        "outputId": "06d7cc03-f2f7-4e1c-83ef-33f94c84a7e5",
        "colab": {
          "base_uri": "https://localhost:8080/"
        }
      },
      "outputs": [
        {
          "output_type": "stream",
          "name": "stdout",
          "text": [
            "0.898\n"
          ]
        }
      ],
      "source": [
        "good_preds = 0\n",
        "for x, y in test_loader:\n",
        "    pred = net(x)\n",
        "    good_preds += (pred.argmax(axis=1) == y).sum().item()\n",
        "\n",
        "print(good_preds / 10000)"
      ]
    },
    {
      "cell_type": "markdown",
      "metadata": {
        "id": "9hKdibYHQjRZ"
      },
      "source": [
        "You should get ~ 90% accuracy."
      ]
    },
    {
      "cell_type": "markdown",
      "metadata": {
        "id": "bGkOKb1qQjRa"
      },
      "source": [
        "**Exercise 4**: Now, train a convolutionnal network, and try to get the best accuracy."
      ]
    },
    {
      "cell_type": "code",
      "execution_count": 24,
      "metadata": {
        "id": "1v_YtCADQjRa",
        "outputId": "f6c88cef-d971-4667-e39a-f07a174f689b",
        "colab": {
          "base_uri": "https://localhost:8080/"
        }
      },
      "outputs": [
        {
          "output_type": "stream",
          "name": "stdout",
          "text": [
            "tensor([[ 0.1323, -0.0208, -0.0313,  ...,  0.1496, -0.1145, -0.0192],\n",
            "        [ 0.1257,  0.0620, -0.0280,  ...,  0.1855, -0.1477,  0.0280],\n",
            "        [ 0.0800,  0.0434, -0.0522,  ...,  0.1293, -0.1325,  0.0724],\n",
            "        ...,\n",
            "        [ 0.1160,  0.0062, -0.0541,  ...,  0.2037, -0.1885,  0.0012],\n",
            "        [ 0.0563,  0.0055, -0.1112,  ...,  0.1756, -0.2019,  0.0003],\n",
            "        [ 0.0725,  0.0292, -0.1088,  ...,  0.1952, -0.1297,  0.0959]],\n",
            "       grad_fn=<AddmmBackward0>)\n"
          ]
        }
      ],
      "source": [
        "class CNN(nn.Module):\n",
        "    def __init__(self):\n",
        "        super().__init__()\n",
        "        self.layer1 = nn.Conv2d(1, 10, 3, padding=1)\n",
        "        self.maxpool1 = nn.MaxPool2d(2)\n",
        "        self.layer2 = nn.Conv2d(10, 20, 3, padding=1)\n",
        "        self.maxpool2 = nn.MaxPool2d(2)\n",
        "        self.layer3 = nn.Conv2d(20, 30, 3, padding=1)\n",
        "        self.maxpool3 = nn.MaxPool2d(2)\n",
        "        self.layer4 = nn.Conv2d(30, 1000, 3, padding=1)\n",
        "        self.maxpool4 = nn.MaxPool2d(2)\n",
        "        self.linear = nn.Linear(1000, 10)\n",
        "    def forward(self, x):\n",
        "        y = self.maxpool1(self.layer1(x))\n",
        "        y = self.maxpool2(self.layer2(y))\n",
        "        y = self.maxpool3(self.layer3(y))\n",
        "        y = self.maxpool4(self.layer4(y))\n",
        "        y = y.view(len(y), -1)\n",
        "        y = self.linear(y)\n",
        "        return y\n",
        "\n",
        "net = CNN()\n",
        "\n",
        "for x, y in train_loader:\n",
        "    print(net(x))\n",
        "    break"
      ]
    },
    {
      "cell_type": "code",
      "execution_count": 18,
      "metadata": {
        "id": "MIqMo7AAQjRa",
        "outputId": "971d758e-c986-4032-b153-d4a23cc2ebdc",
        "colab": {
          "base_uri": "https://localhost:8080/"
        }
      },
      "outputs": [
        {
          "output_type": "stream",
          "name": "stderr",
          "text": [
            "469it [00:52,  8.90it/s]\n"
          ]
        }
      ],
      "source": [
        "optimizer = optim.Adam(lr=1, params = net.parameters())\n",
        "for i, (x, y) in tqdm(enumerate(train_loader)):\n",
        "    optimizer.zero_grad()\n",
        "    output = net(x)\n",
        "    loss = cross_entropy(output, y)\n",
        "    loss.backward()\n",
        "    optimizer.step()\n"
      ]
    },
    {
      "cell_type": "code",
      "execution_count": 19,
      "metadata": {
        "id": "Mcskoiw8QjRa",
        "outputId": "5c86cf91-1450-42f7-e540-b405fb4c49ba",
        "colab": {
          "base_uri": "https://localhost:8080/"
        }
      },
      "outputs": [
        {
          "output_type": "stream",
          "name": "stdout",
          "text": [
            "0.9464\n"
          ]
        }
      ],
      "source": [
        "good_preds = 0\n",
        "for x, y in test_loader:\n",
        "    pred = net(x)\n",
        "    good_preds += (pred.argmax(axis=1) == y).sum().item()\n",
        "\n",
        "print(good_preds / 10000)"
      ]
    },
    {
      "cell_type": "markdown",
      "metadata": {
        "id": "SMKaYXkoQjRa"
      },
      "source": [
        "**Exercise 5**: Put this model on a GPU, and compare the training time.\n",
        "To put a model to GPU, you can to `net.to('cuda')`. The data `x` and `y`should also be put on the GPU."
      ]
    },
    {
      "cell_type": "code",
      "source": [
        "torch.cuda.is_available()"
      ],
      "metadata": {
        "id": "fdnrPMUlYxXF",
        "outputId": "cd95f268-7d59-49b5-eb9b-27653824ea79",
        "colab": {
          "base_uri": "https://localhost:8080/"
        }
      },
      "execution_count": 20,
      "outputs": [
        {
          "output_type": "execute_result",
          "data": {
            "text/plain": [
              "True"
            ]
          },
          "metadata": {},
          "execution_count": 20
        }
      ]
    },
    {
      "cell_type": "code",
      "execution_count": 29,
      "metadata": {
        "id": "05QczzpqQjRa",
        "outputId": "2dbf6d13-9414-4e0c-d35e-e346099a8a03",
        "colab": {
          "base_uri": "https://localhost:8080/"
        }
      },
      "outputs": [
        {
          "output_type": "stream",
          "name": "stderr",
          "text": [
            "469it [00:16, 28.46it/s]\n"
          ]
        }
      ],
      "source": [
        "net = CNN().to('cuda')\n",
        "optimizer = optim.Adam(lr=1, params = net.parameters())\n",
        "for i, (x, y) in tqdm(enumerate(train_loader)):\n",
        "  x = x.to('cuda')\n",
        "  y = y.to('cuda')\n",
        "  optimizer.zero_grad()\n",
        "  output = net(x)\n",
        "  loss = cross_entropy(output, y)\n",
        "  loss.backward()\n",
        "  optimizer.step()"
      ]
    },
    {
      "cell_type": "code",
      "execution_count": 30,
      "metadata": {
        "id": "WAS0pI5IQjRa",
        "outputId": "2316878a-7fef-4aa8-db3c-b8615b35b46c",
        "colab": {
          "base_uri": "https://localhost:8080/"
        }
      },
      "outputs": [
        {
          "output_type": "stream",
          "name": "stdout",
          "text": [
            "0.9416\n"
          ]
        }
      ],
      "source": [
        "good_preds = 0\n",
        "for x, y in test_loader:\n",
        "  x = x.to('cuda')\n",
        "  y = y.to('cuda')\n",
        "  pred = net(x)\n",
        "  good_preds += (pred.argmax(axis=1) == y).sum().item()\n",
        "\n",
        "print(good_preds / 10000)"
      ]
    },
    {
      "cell_type": "code",
      "source": [],
      "metadata": {
        "id": "wQ-pX84sabSI"
      },
      "execution_count": null,
      "outputs": []
    }
  ],
  "metadata": {
    "kernelspec": {
      "display_name": "Python 3",
      "name": "python3"
    },
    "language_info": {
      "codemirror_mode": {
        "name": "ipython",
        "version": 3
      },
      "file_extension": ".py",
      "mimetype": "text/x-python",
      "name": "python",
      "nbconvert_exporter": "python",
      "pygments_lexer": "ipython3",
      "version": "3.9.13"
    },
    "vscode": {
      "interpreter": {
        "hash": "d3d699a5916e1aff8848f10bc57a89f93bc1cf3a71c02fefcecb8a901731c5d8"
      }
    },
    "colab": {
      "provenance": [],
      "gpuType": "T4"
    },
    "accelerator": "GPU"
  },
  "nbformat": 4,
  "nbformat_minor": 0
}