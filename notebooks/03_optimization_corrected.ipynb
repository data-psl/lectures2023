{
  "cells": [
    {
      "cell_type": "markdown",
      "metadata": {
        "id": "fez2KEiqT0PO"
      },
      "source": [
        "Notebook prepared by Mathieu Blondel and Pierre Ablin."
      ]
    },
    {
      "cell_type": "markdown",
      "source": [],
      "metadata": {
        "id": "ANdOQz7BeN7k"
      }
    },
    {
      "cell_type": "markdown",
      "metadata": {
        "id": "VP2BK_aX_I2-"
      },
      "source": [
        "# Lecture 1"
      ]
    },
    {
      "cell_type": "markdown",
      "metadata": {
        "id": "UuAYuQ95reai"
      },
      "source": [
        "## Ridge regression"
      ]
    },
    {
      "cell_type": "code",
      "execution_count": 1,
      "metadata": {
        "id": "3SYMuhGT_1Ok"
      },
      "outputs": [],
      "source": [
        "from sklearn.datasets import fetch_california_housing\n",
        "from sklearn.model_selection import train_test_split\n",
        "\n",
        "# Load the California housing dataset.\n",
        "X_california, y_california = fetch_california_housing(return_X_y=True)\n",
        "\n",
        "# Split into 60% training, 20% validation and 20% test.\n",
        "X_california_tr, X_rest, y_california_tr, y_rest = \\\n",
        "  train_test_split(X_california, y_california, test_size=0.4, random_state=0)\n",
        "X_california_val, X_california_te, y_california_val, y_california_te = \\\n",
        "  train_test_split(X_rest, y_rest, test_size=0.5, random_state=0)"
      ]
    },
    {
      "cell_type": "markdown",
      "metadata": {
        "id": "PtoOJ8agAd95"
      },
      "source": [
        "**Exercise 1.** Implement the analytical solution of ridge regression $(X^\\top X + \\alpha I) w = X^\\top y$ (see [slides](https://data-psl.github.io/lectures2022/slides/05_optimization_linear_models)) using [scipy.linalg.solve](https://docs.scipy.org/doc/scipy/reference/generated/scipy.linalg.solve.html). Compute the solution on the training data. Make sure that the gradient at the solution is zero (up to machine precision)."
      ]
    },
    {
      "cell_type": "code",
      "execution_count": 2,
      "metadata": {
        "id": "heG7kuDXB3Md",
        "colab": {
          "base_uri": "https://localhost:8080/"
        },
        "outputId": "42923fea-50a1-416e-bd55-ef29ef7a22db"
      },
      "outputs": [
        {
          "output_type": "stream",
          "name": "stdout",
          "text": [
            "[ 5.26812332e-01  1.53579509e-02 -2.03258917e-01  8.78095315e-01\n",
            "  3.41349170e-06 -4.98394658e-03 -6.02215402e-02 -1.58318140e-02]\n",
            "----------\n",
            "[ 5.35056444e-11  1.75879063e-09 -3.33927330e-13  1.13817844e-11\n",
            "  3.46192959e-08  1.78449724e-10 -4.73148291e-10 -5.87154040e-09]\n"
          ]
        },
        {
          "output_type": "execute_result",
          "data": {
            "text/plain": [
              "3.516138060474931e-08"
            ]
          },
          "metadata": {},
          "execution_count": 2
        }
      ],
      "source": [
        "import numpy as np\n",
        "from scipy.linalg import solve\n",
        "\n",
        "def ridge_regression_solution(X, y, alpha):\n",
        "  n, p = X.shape\n",
        "  I = np.identity(p)\n",
        "  return solve(X.T.dot(X) + alpha * I, X.T.dot(y))\n",
        "\n",
        "def ridge_regression_gradient(w, X, y, alpha):\n",
        "  return -X.T.dot(y - X.dot(w)) + alpha * w\n",
        "\n",
        "w_star = ridge_regression_solution(X_california_tr, y_california_tr, alpha=1)\n",
        "print(w_star)\n",
        "gradient = ridge_regression_gradient(w_star, X_california_tr, y_california_tr, alpha=1)\n",
        "print(\"----------\")\n",
        "print(gradient)\n",
        "np.sqrt(np.sum(gradient ** 2))"
      ]
    },
    {
      "cell_type": "markdown",
      "metadata": {
        "id": "a4wef-U2CGVX"
      },
      "source": [
        "**Exercise 2.** Train the models for several possible values of alpha (see below). Plot the mean squared error on the test set as a function of alpha. Use the validation data to find the best alpha and display it on the graph using a circle."
      ]
    },
    {
      "cell_type": "code",
      "execution_count": 3,
      "metadata": {
        "id": "aWDX9MAfC_5I",
        "colab": {
          "base_uri": "https://localhost:8080/",
          "height": 434
        },
        "outputId": "95a7b346-a699-480b-8337-7ab6fde279fe"
      },
      "outputs": [
        {
          "output_type": "display_data",
          "data": {
            "text/plain": [
              "<Figure size 640x480 with 1 Axes>"
            ],
            "image/png": "[encoded data removed]"
          },
          "metadata": {}
        }
      ],
      "source": [
        "alphas = np.logspace(-10, 10, 40)\n",
        "\n",
        "mse_val = []\n",
        "mse_test = []\n",
        "for alpha in alphas:\n",
        "  w = ridge_regression_solution(X_california_tr, y_california_tr, alpha)\n",
        "  mse_test.append(np.sum((X_california_te.dot(w) - y_california_te) ** 2))\n",
        "  mse_val.append(np.sum((X_california_val.dot(w) - y_california_val) ** 2))\n",
        "\n",
        "import matplotlib.pyplot as plt\n",
        "\n",
        "i = np.argmin(mse_val)\n",
        "plt.figure()\n",
        "plt.loglog(alphas, mse_test)\n",
        "plt.scatter(alphas[i], mse_test[i])\n",
        "plt.show()\n"
      ]
    },
    {
      "cell_type": "markdown",
      "metadata": {
        "id": "jm9fAF9FDAVO"
      },
      "source": [
        "**Bonus exercise.** Implement a scikit-learn compatible estimator class (with fit and predict methods). Compare that you obtain the same results as `sklearn.linear_model.Ridge(fit_intercept=False)`."
      ]
    },
    {
      "cell_type": "code",
      "source": [
        "from sklearn.base import BaseEstimator, RegressorMixin\n",
        "\n",
        "class MyRidge(BaseEstimator, RegressorMixin):\n",
        "  def __init__(self, alpha=1.0):\n",
        "    self.alpha = alpha\n",
        "\n",
        "  def fit(self, X, y):\n",
        "    self.w_ = ridge_regression_solution(X, y, self.alpha)\n",
        "    return self\n",
        "\n",
        "  def predict(self, X):\n",
        "    return X.dot(self.w_)\n",
        "\n",
        "from sklearn.linear_model import Ridge\n",
        "\n",
        "print(MyRidge().fit(X_california_tr, y_california_tr).predict(X_california_te)[:10])\n",
        "print(Ridge(fit_intercept=False).fit(X_california_tr, y_california_tr).predict(X_california_te)[:10])"
      ],
      "metadata": {
        "id": "K4UBYvhyKgQ1",
        "colab": {
          "base_uri": "https://localhost:8080/"
        },
        "outputId": "b4164440-dbcb-4820-8ae9-1e8fb0ed7f35"
      },
      "execution_count": 4,
      "outputs": [
        {
          "output_type": "stream",
          "name": "stdout",
          "text": [
            "[2.26476736 2.04157803 1.91865531 1.27941599 1.65664333 4.08525141\n",
            " 1.78386342 1.74617333 2.03092742 1.40476656]\n",
            "[2.26476736 2.04157803 1.91865531 1.27941599 1.65664333 4.08525141\n",
            " 1.78386342 1.74617333 2.03092742 1.40476656]\n"
          ]
        }
      ]
    },
    {
      "cell_type": "markdown",
      "metadata": {
        "id": "8URXWS49Dhmc"
      },
      "source": [
        "## Logistic regression"
      ]
    },
    {
      "cell_type": "code",
      "execution_count": 5,
      "metadata": {
        "id": "E6rPbJE6EPbZ"
      },
      "outputs": [],
      "source": [
        "from sklearn.datasets import load_iris\n",
        "\n",
        "X_iris, y_iris = load_iris(return_X_y=True)\n",
        "# Keep only two classes for this exercise.\n",
        "X_iris = X_iris[y_iris <= 1]\n",
        "y_iris = y_iris[y_iris <= 1]"
      ]
    },
    {
      "cell_type": "markdown",
      "metadata": {
        "id": "APsoy2dQHceV"
      },
      "source": [
        "**Exercise 3.** Make a function that computes\n",
        "$$\n",
        "\\text{softplus}(u) = \\log(1 + e^u)\n",
        "$$\n",
        "and notice that its derivative is\n",
        "$$\n",
        "(\\text{softplus}(u))' = \\frac{e^u}{1 + e^u} = \\frac{1}{1 + e^{-u}} = \\text{sigmoid}(u).\n",
        "$$\n",
        "Using the finite difference formula $f'(u) \\approx \\frac{f(u + \\epsilon) - f(u)}{\\epsilon}$ where epsilon is small value (e.g. 10^-6), check that the derivative of softplus is indeed the sigmoid."
      ]
    },
    {
      "cell_type": "code",
      "execution_count": 6,
      "metadata": {
        "id": "MQGEYam4IYSc",
        "colab": {
          "base_uri": "https://localhost:8080/"
        },
        "outputId": "e285c0e8-f576-47a4-fe6a-59bd320eade5"
      },
      "outputs": [
        {
          "output_type": "stream",
          "name": "stdout",
          "text": [
            "3.048587351573742\n",
            "0.9525741493376927\n",
            "0.9525741268224334\n"
          ]
        }
      ],
      "source": [
        "import numpy as np\n",
        "from scipy.special import expit as sigmoid\n",
        "\n",
        "def softplus(u):\n",
        "  return np.log(1 + np.exp(u))\n",
        "\n",
        "def finite_difference(f,u, epsilon=1e-6):\n",
        "  return (f(u + epsilon) - f(u)) / epsilon\n",
        "\n",
        "print(softplus(3))\n",
        "print(finite_difference(softplus, 3))\n",
        "print(sigmoid(3))"
      ]
    },
    {
      "cell_type": "markdown",
      "metadata": {
        "id": "230EfSR_Elw0"
      },
      "source": [
        "**Exercise 4.**\n",
        "Make a function that computes the likelihood\n",
        "$$\n",
        "\\text{likelihood}(u_i, y_i) = y_i \\log \\text{sigmoid}(u_i) + (1-y_i) \\log (1-\\text{sigmoid}(u_i))\n",
        "$$\n",
        "where $u_i = \\mathbf{w}^\\top \\mathbf{x}_i$.\n",
        "Using\n",
        "$$\n",
        "\\log \\text{sigmoid}(u) = -\\text{softplus}(-u)\n",
        "$$\n",
        "and\n",
        "$$\n",
        "\\log(1 - \\text{sigmoid}(u)) = -\\text{softplus}(u)\n",
        "$$\n",
        "make a function that computes the derivative of $\\text{likelihood}(u_i, y_i)$ with respect to $u_i$. Check the result by finite difference. Be careful of signs!"
      ]
    },
    {
      "cell_type": "code",
      "execution_count": 7,
      "metadata": {
        "id": "Yj7jUsRhS7BO",
        "colab": {
          "base_uri": "https://localhost:8080/"
        },
        "outputId": "6db5eaa9-abe4-4f0d-95a4-f6ece7581e7f"
      },
      "outputs": [
        {
          "output_type": "stream",
          "name": "stdout",
          "text": [
            "0.04742587317756678\n",
            "0.04742585048983505\n"
          ]
        }
      ],
      "source": [
        "def likelihood(u_i, y_i):\n",
        "  return - y_i *  softplus(-u_i) - (1 - y_i) * softplus(u_i)\n",
        "\n",
        "def likelihood_derivative(u_i, y_i):\n",
        "  return y_i * sigmoid(-u_i) - (1 - y_i) * sigmoid(u_i)\n",
        "\n",
        "def finite_difference(f,u, x, epsilon=1e-6):\n",
        "  return (f(u + epsilon, x) - f(u, x)) / epsilon\n",
        "\n",
        "print(likelihood_derivative(3, 1))\n",
        "print(finite_difference(likelihood, 3, 1))"
      ]
    },
    {
      "cell_type": "markdown",
      "metadata": {
        "id": "3BS3nztaQ9q6"
      },
      "source": [
        "**Exercise 5.** Write a function that implements the penalized objective function\n",
        "$$\n",
        "L(\\mathbf{w})\n",
        "= -\\sum_{i=1}^n y_i \\log \\text{sigmoid}(\\mathbf{w}^\\top \\mathbf{x}_i) + (1-y_i) \\log (1-\\text{sigmoid}(\\mathbf{w}^\\top \\mathbf{x}_i)) + \\frac{\\alpha}{2} \\|\\mathbf{w}\\|^2\n",
        "$$\n",
        "and another function that computes its gradient. Reuse `likelihood(u_i, y_i)` and `likelihood_derivative(u_i, y_i)` (you can use a for loop). Check that the gradient is correct using finite differences."
      ]
    },
    {
      "cell_type": "code",
      "execution_count": 8,
      "metadata": {
        "id": "zvH8ea1RHbY7",
        "colab": {
          "base_uri": "https://localhost:8080/"
        },
        "outputId": "22a01109-78bd-4de4-c29e-12cae285d8ca"
      },
      "outputs": [
        {
          "output_type": "stream",
          "name": "stdout",
          "text": [
            "[-279.061241   -127.15561717 -206.52414885  -65.03683602]\n",
            "[-279.06119786 -127.15559936 -206.52414125  -65.03683539]\n"
          ]
        }
      ],
      "source": [
        "def objective_value(w, X, y, alpha):\n",
        "  l = 0\n",
        "  for i in range(len(X)):\n",
        "    l -= likelihood(w.dot(X[i]), y[i])\n",
        "  l += 0.5 * alpha * np.sum(w **2)\n",
        "  return l\n",
        "\n",
        "def objective_gradient(w, X, y, alpha):\n",
        "  g = np.zeros_like(w)\n",
        "  for i in range(len(X)):\n",
        "    g -= likelihood_derivative(w.dot(X[i]), y[i]) * X[i]\n",
        "  g += alpha * w\n",
        "  return g\n",
        "\n",
        "def finite_difference_gradient(func, w, *args, eps=1e-6):\n",
        "  gradient = np.zeros_like(w)\n",
        "  for j in range(len(w)):\n",
        "    e_j = np.zeros(len(w))\n",
        "    e_j[j] = 1\n",
        "    gradient[j] = (func(w + eps * e_j, *args) - func(w, *args)) / eps\n",
        "  return gradient\n",
        "\n",
        "\n",
        "n_samples, n_features = X_iris.shape\n",
        "w = np.random.randn(n_features)\n",
        "alpha = 0.1\n",
        "print(objective_gradient(w, X_iris, y_iris, alpha))\n",
        "print(finite_difference_gradient(objective_value, w, X_iris, y_iris, alpha))"
      ]
    },
    {
      "cell_type": "markdown",
      "metadata": {
        "id": "YcG3xB4uc3Q0"
      },
      "source": [
        "**Exercise 6.** Implement gradient descent. Check that the objective value is decreasing. Plot the objective value as a function of the number of iterations."
      ]
    },
    {
      "cell_type": "code",
      "execution_count": 9,
      "metadata": {
        "id": "OgYmz3W5dBes",
        "colab": {
          "base_uri": "https://localhost:8080/",
          "height": 434
        },
        "outputId": "1526990e-5070-4acc-8374-e026618667a6"
      },
      "outputs": [
        {
          "output_type": "display_data",
          "data": {
            "text/plain": [
              "<Figure size 640x480 with 1 Axes>"
            ],
            "image/png": "[encoded data removed]"
          },
          "metadata": {}
        }
      ],
      "source": [
        "def gradient_descent(value_function, gradient_function, w_init, *args,\n",
        "                     step_size=1e-4, num_iterations=2000):\n",
        "  values = []\n",
        "  w = np.copy(w_init)\n",
        "  for i in range(num_iterations):\n",
        "    w = w - step_size * gradient_function(w, *args)\n",
        "    values.append(value_function(w, *args))\n",
        "  # Write gradient descent iteration here.\n",
        "  return values\n",
        "\n",
        "n_samples, n_features = X_iris.shape\n",
        "w_init = np.random.randn(n_features)\n",
        "values = gradient_descent(objective_value, objective_gradient, w_init, X_iris, y_iris, alpha)\n",
        "\n",
        "import matplotlib.pyplot as plt\n",
        "plt.figure()\n",
        "plt.loglog(np.arange(len(values)), values)\n",
        "plt.show()"
      ]
    },
    {
      "cell_type": "markdown",
      "metadata": {
        "id": "vKshmyVEf5At"
      },
      "source": [
        "**Exercise 7.** Rewrite `objective_value` and `objective_gradient` without for loop. Check the correctness of your implementation against the version with a for loop."
      ]
    },
    {
      "cell_type": "code",
      "execution_count": 10,
      "metadata": {
        "id": "GtIL0DQLgnh9",
        "colab": {
          "base_uri": "https://localhost:8080/"
        },
        "outputId": "a21d44bd-0df9-4597-de27-2764fe9bd82f"
      },
      "outputs": [
        {
          "output_type": "stream",
          "name": "stdout",
          "text": [
            "213.1157800020467\n",
            "213.11578000204676\n",
            "[ 19.98951545  59.62350528 -87.80722284 -37.47473878]\n",
            "[ 19.98951545  59.62350528 -87.80722284 -37.47473878]\n"
          ]
        }
      ],
      "source": [
        "def objective_value_no_loop(w, X, y, alpha):\n",
        "  y_pred = np.dot(X, w)\n",
        "  likelihoods = y * np.log(sigmoid(y_pred)) + (1 - y) * np.log(1 - sigmoid(y_pred))\n",
        "  value = -likelihoods.sum()\n",
        "  value += 0.5 * alpha * np.sum(w ** 2)\n",
        "  return value\n",
        "\n",
        "def objective_gradient_no_loop(w, X, y, alpha):\n",
        "  y_pred = np.dot(X, w)\n",
        "  likelihood_deriv = y * sigmoid(-y_pred) + (1 - y) * -sigmoid(y_pred)\n",
        "  gradient = -np.dot(X.T, likelihood_deriv)\n",
        "  gradient += alpha * w\n",
        "  return gradient\n",
        "\n",
        "n_samples, n_features = X_iris.shape\n",
        "w = np.random.randn(n_features)\n",
        "alpha = 0.1\n",
        "print(objective_value(w, X_iris, y_iris, alpha))\n",
        "print(objective_value_no_loop(w, X_iris, y_iris, alpha))\n",
        "print(objective_gradient(w, X_iris, y_iris, alpha))\n",
        "print(objective_gradient_no_loop(w, X_iris, y_iris, alpha))"
      ]
    },
    {
      "cell_type": "markdown",
      "metadata": {
        "id": "0gdsqbPEiroi"
      },
      "source": [
        "Time the two implementations."
      ]
    },
    {
      "cell_type": "code",
      "execution_count": 11,
      "metadata": {
        "id": "rqHQJjA8iv05",
        "colab": {
          "base_uri": "https://localhost:8080/"
        },
        "outputId": "04bef502-27b1-49ed-f5bb-742c1c356738"
      },
      "outputs": [
        {
          "output_type": "stream",
          "name": "stdout",
          "text": [
            "CPU times: user 1.05 ms, sys: 7 µs, total: 1.05 ms\n",
            "Wall time: 1.06 ms\n"
          ]
        },
        {
          "output_type": "execute_result",
          "data": {
            "text/plain": [
              "213.1157800020467"
            ]
          },
          "metadata": {},
          "execution_count": 11
        }
      ],
      "source": [
        "%time objective_value(w, X_iris, y_iris, alpha)"
      ]
    },
    {
      "cell_type": "code",
      "execution_count": 12,
      "metadata": {
        "id": "BIWzhYOyi0df",
        "colab": {
          "base_uri": "https://localhost:8080/"
        },
        "outputId": "02f4a99c-82a2-4cd5-c00e-f054e38b9a19"
      },
      "outputs": [
        {
          "output_type": "stream",
          "name": "stdout",
          "text": [
            "CPU times: user 139 µs, sys: 20 µs, total: 159 µs\n",
            "Wall time: 164 µs\n"
          ]
        },
        {
          "output_type": "execute_result",
          "data": {
            "text/plain": [
              "213.11578000204676"
            ]
          },
          "metadata": {},
          "execution_count": 12
        }
      ],
      "source": [
        "%time objective_value_no_loop(w, X_iris, y_iris, alpha)"
      ]
    },
    {
      "cell_type": "markdown",
      "metadata": {
        "id": "ZFWxXpj_riZp"
      },
      "source": [
        "# Lecture 2"
      ]
    },
    {
      "cell_type": "markdown",
      "metadata": {
        "id": "X4VsRice8VqR"
      },
      "source": [
        "# Stochastic gradient descent"
      ]
    },
    {
      "cell_type": "markdown",
      "metadata": {
        "id": "8HoXxpkV8VqR"
      },
      "source": [
        "We will focus on the California dataset and ridge regression. We will start by scaling the dataset"
      ]
    },
    {
      "cell_type": "code",
      "execution_count": 13,
      "metadata": {
        "id": "rpLM1kao8VqR"
      },
      "outputs": [],
      "source": [
        "from sklearn.preprocessing import StandardScaler\n",
        "\n",
        "X = StandardScaler().fit_transform(X_california)\n",
        "y = y_california - y_california.mean()\n",
        "y /= np.std(y_california)"
      ]
    },
    {
      "cell_type": "markdown",
      "metadata": {
        "id": "dfainsjR8VqT"
      },
      "source": [
        "**Exercise 8.** Write a function that computes the stochastic gradient of ridge regression\n",
        "$$\n",
        "L(\\mathbf{w}) = \\frac{1}{n} \\|\\mathbf{y} - \\mathbf{X} \\mathbf{w}\\|^2\n",
        "+ \\frac{\\alpha}{2} \\|\\mathbf{w}\\|^2\n",
        "$$\n",
        "(notice the 1/n factor).\n",
        "\n",
        "Check that the mean of the stochastic gradients gives the gradient."
      ]
    },
    {
      "cell_type": "code",
      "execution_count": 14,
      "metadata": {
        "id": "gyYNDeCw8VqT",
        "colab": {
          "base_uri": "https://localhost:8080/"
        },
        "outputId": "c2a2df0a-a143-43e4-d8b4-7a7b10dbe883"
      },
      "outputs": [
        {
          "output_type": "stream",
          "name": "stdout",
          "text": [
            "[-0.40540193 -1.28751714  3.82491152  3.53280375 -2.21853168  1.15888479\n",
            "  4.64262379 -3.82693893]\n",
            "[-0.40540193 -1.28751714  3.82491152  3.53280375 -2.21853168  1.15888479\n",
            "  4.64262379 -3.82693893]\n"
          ]
        }
      ],
      "source": [
        "def ridge_objective(w, X, y, alpha):\n",
        "    residual = y - np.dot(X, w)\n",
        "    n_samples, n_features = X.shape\n",
        "    return np.sum(residual ** 2) / n_samples + alpha * np.dot(w, w) / 2\n",
        "\n",
        "\n",
        "def ridge_gradient(w, X, y, alpha):\n",
        "    n_samples, n_features = X.shape\n",
        "    return 2 * (np.dot(X, w) - y).dot(X) / n_samples + alpha * w\n",
        "\n",
        "\n",
        "def stochastic_gradient(w, i, X, y, alpha):\n",
        "  n_samples = len(X)\n",
        "  gradient = np.zeros_like(w)\n",
        "  gradient = 2 * (np.dot(X[i], w) - y[i]) * X[i]\n",
        "  gradient += alpha * w\n",
        "  return gradient\n",
        "\n",
        "\n",
        "n_samples, n_features = X.shape\n",
        "w = np.random.randn(n_features)\n",
        "alpha = 0.1\n",
        "print(np.mean([stochastic_gradient(w, i, X, y, alpha) for i in range(n_samples)], axis=0))\n",
        "print(ridge_gradient(w, X, y, alpha))"
      ]
    },
    {
      "cell_type": "markdown",
      "metadata": {
        "id": "dIyIKxau8VqV"
      },
      "source": [
        "**Exercise 9.** Write a function that implements stochastic gradient descent. Implement two rules for sampling the index: cyclic, and at random. Compare the convergence of both algorithms. What is the role of the step size?\n",
        "\n",
        "You should especially look at the convergence speed and the value at which the algorithm plateaus."
      ]
    },
    {
      "cell_type": "code",
      "execution_count": 15,
      "metadata": {
        "id": "pkcj3zn18VqW",
        "colab": {
          "base_uri": "https://localhost:8080/",
          "height": 843
        },
        "outputId": "d53a76e7-b54b-430c-9389-12219e969acb"
      },
      "outputs": [
        {
          "output_type": "display_data",
          "data": {
            "text/plain": [
              "<Figure size 640x480 with 1 Axes>"
            ],
            "image/png": "[encoded data removed]"
          },
          "metadata": {}
        },
        {
          "output_type": "display_data",
          "data": {
            "text/plain": [
              "<Figure size 640x480 with 1 Axes>"
            ],
            "image/png": "[encoded data removed]"
          },
          "metadata": {}
        }
      ],
      "source": [
        "def stochastic_gradient_descent(value_function, gradient_function, w_init, idx_list, *args,\n",
        "                                step_size=1e-4, num_iterations=1000):\n",
        "  values = []\n",
        "  w = np.copy(w_init)\n",
        "  for i in range(num_iterations):\n",
        "    idx = idx_list[i]\n",
        "    w = w - step_size * gradient_function(w, idx, *args)\n",
        "    values.append(value_function(w, *args))\n",
        "  return values\n",
        "\n",
        "w = np.random.randn(n_features)\n",
        "num_iterations = 20000\n",
        "step_size = 1e-4\n",
        "idx_cyclic = np.arange(num_iterations) % n_samples\n",
        "values_cyclic = stochastic_gradient_descent(ridge_objective,\n",
        "                                            stochastic_gradient,\n",
        "                                            w, idx_cyclic, X,\n",
        "                                            y, alpha, step_size=step_size,\n",
        "                                            num_iterations=num_iterations)\n",
        "idx_random = np.random.randint(0, n_samples, num_iterations)\n",
        "values_random = stochastic_gradient_descent(ridge_objective,\n",
        "                                            stochastic_gradient,\n",
        "                                            w, idx_random, X,\n",
        "                                            y, alpha, step_size=step_size,\n",
        "                                            num_iterations=num_iterations)\n",
        "plt.figure()\n",
        "plt.plot(np.arange(len(values_cyclic)), values_cyclic, label='Cyclic')\n",
        "plt.plot(np.arange(len(values_random)), values_random, label='Random')\n",
        "plt.legend()\n",
        "plt.yscale('log')\n",
        "plt.show()\n",
        "\n",
        "plt.figure()\n",
        "\n",
        "for step_size in [1e-5, 1e-4, 1e-3]:\n",
        "    values = stochastic_gradient_descent(ridge_objective,\n",
        "                                         stochastic_gradient,\n",
        "                                         w, idx_random, X,\n",
        "                                         y, alpha, step_size=step_size,\n",
        "                                         num_iterations=num_iterations)\n",
        "    plt.plot(values, label='%.e' % step_size)\n",
        "plt.legend()\n",
        "plt.yscale('log')\n",
        "plt.show()\n",
        "\n"
      ]
    },
    {
      "cell_type": "markdown",
      "metadata": {
        "id": "NXAGCMLH8VqX"
      },
      "source": [
        "# L-BFGS"
      ]
    },
    {
      "cell_type": "markdown",
      "metadata": {
        "id": "sXrQ7waY8VqY"
      },
      "source": [
        "L-BFGS is the go-to second order method. It is already implemented in `scipy`:"
      ]
    },
    {
      "cell_type": "code",
      "execution_count": 16,
      "metadata": {
        "id": "4-4jfEsV8VqY"
      },
      "outputs": [],
      "source": [
        "from scipy.optimize import fmin_l_bfgs_b"
      ]
    },
    {
      "cell_type": "markdown",
      "metadata": {
        "id": "LuaI7Gpj8Vqa"
      },
      "source": [
        "**Exercise 10.** Use the L-BFGS code to optimize the logistic regression on the Iris dataset. Compare it with your gradient descent.\n",
        "\n",
        "Hint: in order to store the function values, you can use the callback function in `fmin_l_bfgs_b`. Don't forget to read the documentation !"
      ]
    },
    {
      "cell_type": "code",
      "execution_count": 17,
      "metadata": {
        "id": "ZcGjCq098Vqa",
        "colab": {
          "base_uri": "https://localhost:8080/",
          "height": 430
        },
        "outputId": "8cb5cc9a-e9b3-426e-ff70-a242abef690f"
      },
      "outputs": [
        {
          "output_type": "display_data",
          "data": {
            "text/plain": [
              "<Figure size 640x480 with 1 Axes>"
            ],
            "image/png": "[encoded data removed]"
          },
          "metadata": {}
        }
      ],
      "source": [
        "class callback(object):\n",
        "    def __init__(self):\n",
        "        self.values = []\n",
        "\n",
        "    def __call__(self, w):\n",
        "        self.values.append(objective_value_no_loop(w, X_iris, y_iris, alpha))\n",
        "\n",
        "\n",
        "n_samples, n_features = X_iris.shape\n",
        "w_init = np.random.randn(n_features)\n",
        "values = gradient_descent(objective_value, objective_gradient, w_init, X_iris, y_iris, alpha)\n",
        "\n",
        "cb = callback()\n",
        "_ = fmin_l_bfgs_b(objective_value, w_init, objective_gradient, args=(X_iris, y_iris, alpha), callback=cb)\n",
        "plt.figure()\n",
        "plt.plot(np.arange(len(values)), values)\n",
        "plt.plot(cb.values)\n",
        "plt.yscale('log')\n",
        "plt.show()\n"
      ]
    },
    {
      "cell_type": "code",
      "source": [],
      "metadata": {
        "id": "4puRHOHDkhco"
      },
      "execution_count": 17,
      "outputs": []
    }
  ],
  "metadata": {
    "colab": {
      "name": "Optimization lab work",
      "provenance": []
    },
    "kernelspec": {
      "display_name": "Python 3.9.13 ('venv': venv)",
      "language": "python",
      "name": "python3"
    },
    "language_info": {
      "codemirror_mode": {
        "name": "ipython",
        "version": 3
      },
      "file_extension": ".py",
      "mimetype": "text/x-python",
      "name": "python",
      "nbconvert_exporter": "python",
      "pygments_lexer": "ipython3",
      "version": "3.9.13"
    },
    "vscode": {
      "interpreter": {
        "hash": "52cac47bb829c37db794c82c83a79339992d5d07f5620aa9f303ee48516a5585"
      }
    }
  },
  "nbformat": 4,
  "nbformat_minor": 0
}